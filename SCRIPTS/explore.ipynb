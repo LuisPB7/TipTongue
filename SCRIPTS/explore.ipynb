{
 "cells": [
  {
   "cell_type": "markdown",
   "metadata": {},
   "source": [
    "# Imports and PyTerrier Initialization"
   ]
  },
  {
   "cell_type": "code",
   "execution_count": 1,
   "metadata": {},
   "outputs": [
    {
     "name": "stderr",
     "output_type": "stream",
     "text": [
      "PyTerrier 0.10.0 has loaded Terrier 5.8 (built by craigm on 2023-11-01 18:05) and terrier-helper 0.0.8\n",
      "\n",
      "No etc/terrier.properties, using terrier.default.properties for bootstrap configuration.\n"
     ]
    }
   ],
   "source": [
    "import pickle\n",
    "import pandas as pd\n",
    "import numpy as np\n",
    "import matplotlib.pyplot as plt\n",
    "import seaborn as sns\n",
    "import itertools\n",
    "from icecream import ic\n",
    "from tqdm import tqdm, trange\n",
    "import os\n",
    "import random\n",
    "import pyterrier as pt\n",
    "from sklearn.model_selection import train_test_split\n",
    "from typing import List, Dict, Tuple, Union\n",
    "os.environ[\"JAVA_HOME\"] = \"/Users/rohanjha/miniforge3/envs/tot_java/lib/jvm\"\n",
    "pt.init()"
   ]
  },
  {
   "cell_type": "markdown",
   "metadata": {},
   "source": [
    "# Make 20GB Index of Wikipedia Passages in ./indexes (ALREADY RUN, TAKES HOURS)"
   ]
  },
  {
   "cell_type": "code",
   "execution_count": 2,
   "metadata": {},
   "outputs": [],
   "source": [
    "# Load passages (dict of docid-pid -> passage)\n",
    "# passages = pickle.load(open(\"/Users/rohanjha/Desktop/college/research/TipTongue/WIKIPEDIA/wikipedia_passages.pkl\", 'rb'))\n",
    "documents = pickle.load(open(\"/Users/rohanjha/Desktop/college/research/TipTongue/WIKIPEDIA/wikipedia_documents.pkl\", 'rb'))"
   ]
  },
  {
   "cell_type": "code",
   "execution_count": null,
   "metadata": {},
   "outputs": [],
   "source": [
    "max(len(text) for text in documents.values())"
   ]
  },
  {
   "cell_type": "code",
   "execution_count": null,
   "metadata": {},
   "outputs": [],
   "source": [
    "max(len(docid) for docid in documents.keys())"
   ]
  },
  {
   "cell_type": "code",
   "execution_count": null,
   "metadata": {},
   "outputs": [],
   "source": [
    "def passages_dataset():\n",
    "    for dpid, text in tqdm(passages.items()):\n",
    "        docid, pid = dpid.split('-')\n",
    "        result = {'docno': docid, 'pid' : pid, 'text': text}\n",
    "        yield result"
   ]
  },
  {
   "cell_type": "code",
   "execution_count": 3,
   "metadata": {},
   "outputs": [],
   "source": [
    "def documents_dataset():\n",
    "    for docid, text in tqdm(documents.items()):\n",
    "        result = {'docno': docid, 'text': text}\n",
    "        yield result"
   ]
  },
  {
   "cell_type": "code",
   "execution_count": 7,
   "metadata": {},
   "outputs": [],
   "source": [
    "# del passages\n",
    "del documents"
   ]
  },
  {
   "cell_type": "code",
   "execution_count": 4,
   "metadata": {},
   "outputs": [],
   "source": [
    "# Measured empirically\n",
    "max_passage_length = 4204\n",
    "max_document_length = 491966\n",
    "max_docno_length = 8\n",
    "max_pid_length = 4"
   ]
  },
  {
   "cell_type": "code",
   "execution_count": 5,
   "metadata": {},
   "outputs": [],
   "source": [
    "index_path = \"/Users/rohanjha/Desktop/college/research/TipTongue/document_index\"\n",
    "iter_indexer = pt.IterDictIndexer(\n",
    "    index_path,\n",
    "    blocks=True,\n",
    "    verbose=True,\n",
    "    overwrite=True,\n",
    "    # meta={\"docno\": max_docno_length, \"pid\": max_pid_length, \"text\": max_text_length},\n",
    "    meta={\"docno\": max_docno_length, \"text\": max_document_length},\n",
    "    threads=16,\n",
    ")"
   ]
  },
  {
   "cell_type": "code",
   "execution_count": 6,
   "metadata": {},
   "outputs": [
    {
     "name": "stderr",
     "output_type": "stream",
     "text": [
      "/Users/rohanjha/miniforge3/envs/11-797/lib/python3.10/site-packages/pyterrier/index.py:1021: UserWarning: Using multiple threads results in a non-deterministic ordering of document in the index. For deterministic behavior, use threads=1\n",
      "  warn('Using multiple threads results in a non-deterministic ordering of document in the index. For deterministic behavior, use threads=1')\n",
      "  9%|▊         | 553058/6458670 [07:41<53:07, 1852.53it/s]  "
     ]
    },
    {
     "name": "stdout",
     "output_type": "stream",
     "text": [
      "11:55:17.220 [ForkJoinPool-1-worker-12] WARN org.terrier.structures.indexing.Indexer - Adding an empty document to the index (2105412) - further warnings are suppressed\n"
     ]
    },
    {
     "name": "stderr",
     "output_type": "stream",
     "text": [
      " 10%|█         | 653703/6458670 [08:44<1:02:25, 1550.05it/s]"
     ]
    },
    {
     "name": "stdout",
     "output_type": "stream",
     "text": [
      "11:56:19.952 [ForkJoinPool-1-worker-15] WARN org.terrier.structures.indexing.Indexer - Adding an empty document to the index (2653654) - further warnings are suppressed\n",
      "11:56:19.985 [ForkJoinPool-1-worker-8] WARN org.terrier.structures.indexing.Indexer - Adding an empty document to the index (2653464) - further warnings are suppressed\n"
     ]
    },
    {
     "name": "stderr",
     "output_type": "stream",
     "text": [
      " 10%|█         | 654249/6458670 [08:44<51:12, 1888.88it/s]  "
     ]
    },
    {
     "name": "stdout",
     "output_type": "stream",
     "text": [
      "11:56:20.117 [ForkJoinPool-1-worker-1] WARN org.terrier.structures.indexing.Indexer - Adding an empty document to the index (2653676) - further warnings are suppressed\n",
      "11:56:20.170 [ForkJoinPool-1-worker-3] WARN org.terrier.structures.indexing.Indexer - Adding an empty document to the index (2653475) - further warnings are suppressed\n",
      "11:56:20.213 [ForkJoinPool-1-worker-6] WARN org.terrier.structures.indexing.Indexer - Adding an empty document to the index (2653470) - further warnings are suppressed\n"
     ]
    },
    {
     "name": "stderr",
     "output_type": "stream",
     "text": [
      " 10%|█         | 654452/6458670 [08:44<55:46, 1734.50it/s]"
     ]
    },
    {
     "name": "stdout",
     "output_type": "stream",
     "text": [
      "11:56:20.289 [ForkJoinPool-1-worker-11] WARN org.terrier.structures.indexing.Indexer - Adding an empty document to the index (2653711) - further warnings are suppressed\n",
      "11:56:20.422 [ForkJoinPool-1-worker-9] WARN org.terrier.structures.indexing.Indexer - Adding an empty document to the index (2653700) - further warnings are suppressed\n"
     ]
    },
    {
     "name": "stderr",
     "output_type": "stream",
     "text": [
      " 10%|█         | 655141/6458670 [08:45<45:19, 2134.05it/s]  "
     ]
    },
    {
     "name": "stdout",
     "output_type": "stream",
     "text": [
      "11:56:20.681 [ForkJoinPool-1-worker-5] WARN org.terrier.structures.indexing.Indexer - Adding an empty document to the index (2653671) - further warnings are suppressed\n"
     ]
    },
    {
     "name": "stderr",
     "output_type": "stream",
     "text": [
      " 10%|█         | 655400/6458670 [08:45<55:10, 1752.72it/s]"
     ]
    },
    {
     "name": "stdout",
     "output_type": "stream",
     "text": [
      "11:56:20.846 [ForkJoinPool-1-worker-7] WARN org.terrier.structures.indexing.Indexer - Adding an empty document to the index (2653476) - further warnings are suppressed\n"
     ]
    },
    {
     "name": "stderr",
     "output_type": "stream",
     "text": [
      " 10%|█         | 663397/6458670 [08:50<1:03:03, 1531.64it/s]"
     ]
    },
    {
     "name": "stdout",
     "output_type": "stream",
     "text": [
      "11:56:25.600 [ForkJoinPool-1-worker-13] WARN org.terrier.structures.indexing.Indexer - Adding an empty document to the index (2707532) - further warnings are suppressed\n",
      "11:56:25.644 [ForkJoinPool-1-worker-16] WARN org.terrier.structures.indexing.Indexer - Adding an empty document to the index (2707480) - further warnings are suppressed\n",
      "11:56:25.689 [ForkJoinPool-1-worker-14] WARN org.terrier.structures.indexing.Indexer - Adding an empty document to the index (2707392) - further warnings are suppressed\n"
     ]
    },
    {
     "name": "stderr",
     "output_type": "stream",
     "text": [
      " 10%|█         | 663665/6458670 [08:50<59:26, 1624.73it/s]  "
     ]
    },
    {
     "name": "stdout",
     "output_type": "stream",
     "text": [
      "11:56:25.780 [ForkJoinPool-1-worker-2] WARN org.terrier.structures.indexing.Indexer - Adding an empty document to the index (2707804) - further warnings are suppressed\n"
     ]
    },
    {
     "name": "stderr",
     "output_type": "stream",
     "text": [
      " 10%|█         | 663923/6458670 [08:50<53:07, 1817.71it/s]"
     ]
    },
    {
     "name": "stdout",
     "output_type": "stream",
     "text": [
      "11:56:25.856 [ForkJoinPool-1-worker-4] WARN org.terrier.structures.indexing.Indexer - Adding an empty document to the index (2707436) - further warnings are suppressed\n"
     ]
    },
    {
     "name": "stderr",
     "output_type": "stream",
     "text": [
      " 10%|█         | 664143/6458670 [08:50<54:33, 1770.38it/s]"
     ]
    },
    {
     "name": "stdout",
     "output_type": "stream",
     "text": [
      "11:56:25.944 [ForkJoinPool-1-worker-10] WARN org.terrier.structures.indexing.Indexer - Adding an empty document to the index (2707689) - further warnings are suppressed\n"
     ]
    },
    {
     "name": "stderr",
     "output_type": "stream",
     "text": [
      "100%|██████████| 6458670/6458670 [58:20<00:00, 1845.23it/s]  \n"
     ]
    },
    {
     "name": "stdout",
     "output_type": "stream",
     "text": [
      "12:53:48.158 [ForkJoinPool-1-worker-7] WARN org.terrier.structures.indexing.Indexer - Indexed 9 empty documents\n",
      "12:53:59.728 [ForkJoinPool-1-worker-11] WARN org.terrier.structures.indexing.Indexer - Indexed 8 empty documents\n",
      "12:54:13.557 [ForkJoinPool-1-worker-3] WARN org.terrier.structures.indexing.Indexer - Indexed 7 empty documents\n",
      "12:54:14.997 [ForkJoinPool-1-worker-8] WARN org.terrier.structures.indexing.Indexer - Indexed 7 empty documents\n",
      "12:54:26.847 [ForkJoinPool-1-worker-5] WARN org.terrier.structures.indexing.Indexer - Indexed 6 empty documents\n",
      "12:54:33.188 [ForkJoinPool-1-worker-4] WARN org.terrier.structures.indexing.Indexer - Indexed 8 empty documents\n",
      "12:54:33.403 [ForkJoinPool-1-worker-6] WARN org.terrier.structures.indexing.Indexer - Indexed 6 empty documents\n",
      "12:54:34.442 [ForkJoinPool-1-worker-14] WARN org.terrier.structures.indexing.Indexer - Indexed 7 empty documents\n",
      "12:54:40.256 [ForkJoinPool-1-worker-13] WARN org.terrier.structures.indexing.Indexer - Indexed 8 empty documents\n",
      "12:54:46.465 [ForkJoinPool-1-worker-9] WARN org.terrier.structures.indexing.Indexer - Indexed 9 empty documents\n",
      "12:54:46.718 [ForkJoinPool-1-worker-1] WARN org.terrier.structures.indexing.Indexer - Indexed 9 empty documents\n",
      "12:54:47.412 [ForkJoinPool-1-worker-10] WARN org.terrier.structures.indexing.Indexer - Indexed 6 empty documents\n",
      "12:54:48.616 [ForkJoinPool-1-worker-2] WARN org.terrier.structures.indexing.Indexer - Indexed 9 empty documents\n",
      "12:54:54.525 [ForkJoinPool-1-worker-15] WARN org.terrier.structures.indexing.Indexer - Indexed 10 empty documents\n",
      "12:54:56.056 [ForkJoinPool-1-worker-16] WARN org.terrier.structures.indexing.Indexer - Indexed 8 empty documents\n",
      "12:55:04.372 [ForkJoinPool-1-worker-12] WARN org.terrier.structures.indexing.Indexer - Indexed 6 empty documents\n",
      "12:55:15.711 [ForkJoinPool-1-worker-3] WARN org.terrier.structures.BaseCompressingMetaIndex - Structure meta reading data file directly from disk (SLOW) - try index.meta.data-source=fileinmem in the index properties file. 552.7 MiB of memory would be required.\n",
      "12:55:31.435 [ForkJoinPool-1-worker-6] WARN org.terrier.structures.BaseCompressingMetaIndex - Structure meta reading data file directly from disk (SLOW) - try index.meta.data-source=fileinmem in the index properties file. 556.2 MiB of memory would be required.\n",
      "12:55:51.715 [ForkJoinPool-1-worker-1] WARN org.terrier.structures.BaseCompressingMetaIndex - Structure meta reading data file directly from disk (SLOW) - try index.meta.data-source=fileinmem in the index properties file. 558.1 MiB of memory would be required.\n",
      "12:55:52.217 [ForkJoinPool-1-worker-10] WARN org.terrier.structures.BaseCompressingMetaIndex - Structure meta reading data file directly from disk (SLOW) - try index.meta.data-source=fileinmem in the index properties file. 557.3 MiB of memory would be required.\n",
      "12:55:52.661 [ForkJoinPool-1-worker-9] WARN org.terrier.structures.BaseCompressingMetaIndex - Structure meta reading data file directly from disk (SLOW) - try index.meta.data-source=fileinmem in the index properties file. 557.1 MiB of memory would be required.\n",
      "12:55:59.829 [ForkJoinPool-1-worker-15] WARN org.terrier.structures.BaseCompressingMetaIndex - Structure meta reading data file directly from disk (SLOW) - try index.meta.data-source=fileinmem in the index properties file. 558.3 MiB of memory would be required.\n",
      "12:56:01.261 [ForkJoinPool-1-worker-16] WARN org.terrier.structures.BaseCompressingMetaIndex - Structure meta reading data file directly from disk (SLOW) - try index.meta.data-source=fileinmem in the index properties file. 558.4 MiB of memory would be required.\n",
      "12:56:06.906 [ForkJoinPool-1-worker-12] WARN org.terrier.structures.BaseCompressingMetaIndex - Structure meta reading data file directly from disk (SLOW) - try index.meta.data-source=fileinmem in the index properties file. 559.7 MiB of memory would be required.\n",
      "13:13:46.626 [ForkJoinPool-1-worker-3] WARN org.terrier.structures.BaseCompressingMetaIndex - Structure meta reading data file directly from disk (SLOW) - try index.meta.data-source=fileinmem in the index properties file. 547.1 MiB of memory would be required.\n",
      "13:14:14.041 [ForkJoinPool-1-worker-6] WARN org.terrier.structures.BaseCompressingMetaIndex - Structure meta reading data file directly from disk (SLOW) - try index.meta.data-source=fileinmem in the index properties file. 555 MiB of memory would be required.\n",
      "13:14:46.877 [ForkJoinPool-1-worker-10] WARN org.terrier.structures.BaseCompressingMetaIndex - Structure meta reading data file directly from disk (SLOW) - try index.meta.data-source=fileinmem in the index properties file. 555.6 MiB of memory would be required.\n",
      "13:14:50.546 [ForkJoinPool-1-worker-1] WARN org.terrier.structures.BaseCompressingMetaIndex - Structure meta reading data file directly from disk (SLOW) - try index.meta.data-source=fileinmem in the index properties file. 557.8 MiB of memory would be required.\n",
      "13:14:52.632 [ForkJoinPool-1-worker-9] WARN org.terrier.structures.BaseCompressingMetaIndex - Structure meta reading data file directly from disk (SLOW) - try index.meta.data-source=fileinmem in the index properties file. 558.2 MiB of memory would be required.\n",
      "13:14:59.833 [ForkJoinPool-1-worker-16] WARN org.terrier.structures.BaseCompressingMetaIndex - Structure meta reading data file directly from disk (SLOW) - try index.meta.data-source=fileinmem in the index properties file. 558.5 MiB of memory would be required.\n",
      "13:15:02.983 [ForkJoinPool-1-worker-15] WARN org.terrier.structures.BaseCompressingMetaIndex - Structure meta reading data file directly from disk (SLOW) - try index.meta.data-source=fileinmem in the index properties file. 562.3 MiB of memory would be required.\n",
      "13:15:08.115 [ForkJoinPool-1-worker-12] WARN org.terrier.structures.BaseCompressingMetaIndex - Structure meta reading data file directly from disk (SLOW) - try index.meta.data-source=fileinmem in the index properties file. 559.4 MiB of memory would be required.\n",
      "13:35:08.926 [ForkJoinPool-1-worker-6] WARN org.terrier.structures.BaseCompressingMetaIndex - Structure meta reading data file directly from disk (SLOW) - try index.meta.data-source=fileinmem in the index properties file. 1.1 GiB of memory would be required.\n",
      "13:35:38.117 [ForkJoinPool-1-worker-1] WARN org.terrier.structures.BaseCompressingMetaIndex - Structure meta reading data file directly from disk (SLOW) - try index.meta.data-source=fileinmem in the index properties file. 1.1 GiB of memory would be required.\n",
      "13:35:51.205 [ForkJoinPool-1-worker-15] WARN org.terrier.structures.BaseCompressingMetaIndex - Structure meta reading data file directly from disk (SLOW) - try index.meta.data-source=fileinmem in the index properties file. 1.1 GiB of memory would be required.\n",
      "13:35:52.674 [ForkJoinPool-1-worker-12] WARN org.terrier.structures.BaseCompressingMetaIndex - Structure meta reading data file directly from disk (SLOW) - try index.meta.data-source=fileinmem in the index properties file. 1.1 GiB of memory would be required.\n",
      "14:02:32.027 [ForkJoinPool-1-worker-6] WARN org.terrier.structures.BaseCompressingMetaIndex - Structure meta reading data file directly from disk (SLOW) - try index.meta.data-source=fileinmem in the index properties file. 1.1 GiB of memory would be required.\n",
      "14:03:36.534 [ForkJoinPool-1-worker-1] WARN org.terrier.structures.BaseCompressingMetaIndex - Structure meta reading data file directly from disk (SLOW) - try index.meta.data-source=fileinmem in the index properties file. 1.1 GiB of memory would be required.\n",
      "14:04:11.407 [ForkJoinPool-1-worker-12] WARN org.terrier.structures.BaseCompressingMetaIndex - Structure meta reading data file directly from disk (SLOW) - try index.meta.data-source=fileinmem in the index properties file. 1.1 GiB of memory would be required.\n",
      "14:04:15.679 [ForkJoinPool-1-worker-15] WARN org.terrier.structures.BaseCompressingMetaIndex - Structure meta reading data file directly from disk (SLOW) - try index.meta.data-source=fileinmem in the index properties file. 1.1 GiB of memory would be required.\n",
      "14:44:24.288 [ForkJoinPool-1-worker-1] WARN org.terrier.structures.BaseCompressingMetaIndex - Structure meta reading data file directly from disk (SLOW) - try index.meta.data-source=fileinmem in the index properties file. 2.2 GiB of memory would be required.\n",
      "14:44:48.206 [ForkJoinPool-1-worker-15] WARN org.terrier.structures.BaseCompressingMetaIndex - Structure meta reading data file directly from disk (SLOW) - try index.meta.data-source=fileinmem in the index properties file. 2.2 GiB of memory would be required.\n",
      "15:35:46.576 [ForkJoinPool-1-worker-1] WARN org.terrier.structures.BaseCompressingMetaIndex - Structure meta reading data file directly from disk (SLOW) - try index.meta.data-source=fileinmem in the index properties file. 2.2 GiB of memory would be required.\n",
      "15:36:22.003 [ForkJoinPool-1-worker-15] WARN org.terrier.structures.BaseCompressingMetaIndex - Structure meta reading data file directly from disk (SLOW) - try index.meta.data-source=fileinmem in the index properties file. 2.2 GiB of memory would be required.\n",
      "16:31:56.978 [ForkJoinPool-1-worker-15] WARN org.terrier.structures.BaseCompressingMetaIndex - Structure meta reading data file directly from disk (SLOW) - try index.meta.data-source=fileinmem in the index properties file. 4.4 GiB of memory would be required.\n",
      "18:11:30.609 [ForkJoinPool-1-worker-15] WARN org.terrier.structures.BaseCompressingMetaIndex - Structure meta reading data file directly from disk (SLOW) - try index.meta.data-source=fileinmem in the index properties file. 4.3 GiB of memory would be required.\n"
     ]
    }
   ],
   "source": [
    "index_ref = iter_indexer.index(documents_dataset())"
   ]
  },
  {
   "cell_type": "markdown",
   "metadata": {},
   "source": [
    "# Get queries and qrels for each domain/split"
   ]
  },
  {
   "cell_type": "code",
   "execution_count": 9,
   "metadata": {},
   "outputs": [
    {
     "name": "stdout",
     "output_type": "stream",
     "text": [
      "Removed 10664 empty/no-qrel queries from 9898 total queries\n",
      "Removed 29148 empty/no-qrel queries from 54958 total queries\n",
      "Removed 47866 empty/no-qrel queries from 34250 total queries\n",
      "Removed 6320 empty/no-qrel queries from 6899 total queries\n"
     ]
    }
   ],
   "source": [
    "# processes and cleans queries from Dict[qid, query] to the required dataframe format for pyterrier\n",
    "# removes empty queries and queries without qrels\n",
    "# returns queries_df, qrels_df\n",
    "def process_queries_and_qrels(queries, qrels):\n",
    "    qrel_qids = set(qrels.keys())\n",
    "    # queries\n",
    "    cleaned_queries = {\n",
    "        qid : \"\".join([x if x.isalnum() else \" \" for x in query])\n",
    "        for qid, query in queries.items()\n",
    "        if query != \"\" and qid in qrel_qids\n",
    "    }\n",
    "    \n",
    "    print(f\"Removed {len(queries) - len(cleaned_queries)} empty/no-qrel queries from {len(cleaned_queries)} total queries\")\n",
    "    queries_df = pd.DataFrame(list(cleaned_queries.items()), columns=['qid', 'query'])\n",
    "\n",
    "    # qrels\n",
    "    qrels_df = pd.DataFrame([(qid, docno, 1) for qid, docno in qrels.items()], columns=['qid', 'docno', 'label'])\n",
    "    return queries_df, qrels_df\n",
    "\n",
    "domains = ['book', 'movie', 'music', 'game']\n",
    "all_domain_queries, all_domain_qrels = {}, {}\n",
    "\n",
    "for domain in domains:\n",
    "    queries = pickle.load(open(f\"../DATA/{domain}_queries.pkl\", 'rb'))\n",
    "    qrels = pickle.load(open(f\"../DATA/{domain}_qrels.pkl\", 'rb'))\n",
    "    all_domain_queries[domain], all_domain_qrels[domain] = process_queries_and_qrels(queries, qrels)"
   ]
  },
  {
   "cell_type": "code",
   "execution_count": 11,
   "metadata": {},
   "outputs": [
    {
     "name": "stderr",
     "output_type": "stream",
     "text": [
      "ic| all_domain_queries['book'].index: RangeIndex"
     ]
    },
    {
     "name": "stderr",
     "output_type": "stream",
     "text": [
      "(start=0, stop=9898, step=1)\n"
     ]
    },
    {
     "data": {
      "text/plain": [
       "RangeIndex(start=0, stop=9898, step=1)"
      ]
     },
     "execution_count": 11,
     "metadata": {},
     "output_type": "execute_result"
    }
   ],
   "source": [
    "ic(all_domain_queries['book'].index)\n"
   ]
  },
  {
   "cell_type": "code",
   "execution_count": 12,
   "metadata": {},
   "outputs": [
    {
     "ename": "NameError",
     "evalue": "name 'train_idxs' is not defined",
     "output_type": "error",
     "traceback": [
      "\u001b[0;31m---------------------------------------------------------------------------\u001b[0m",
      "\u001b[0;31mNameError\u001b[0m                                 Traceback (most recent call last)",
      "Cell \u001b[0;32mIn[12], line 1\u001b[0m\n\u001b[0;32m----> 1\u001b[0m all_domain_queries[\u001b[38;5;124m'\u001b[39m\u001b[38;5;124mbook\u001b[39m\u001b[38;5;124m'\u001b[39m]\u001b[38;5;241m.\u001b[39miloc[\u001b[43mtrain_idxs\u001b[49m]\n",
      "\u001b[0;31mNameError\u001b[0m: name 'train_idxs' is not defined"
     ]
    }
   ],
   "source": [
    "all_domain_queries['book'].iloc[train_idxs]"
   ]
  },
  {
   "cell_type": "code",
   "execution_count": null,
   "metadata": {},
   "outputs": [],
   "source": [
    "all_domain_queries['book'].iloc[test_idxs]\n"
   ]
  },
  {
   "cell_type": "markdown",
   "metadata": {},
   "source": [
    "# Create Experiment"
   ]
  },
  {
   "cell_type": "code",
   "execution_count": 13,
   "metadata": {},
   "outputs": [],
   "source": [
    "# set up index and bm25 retriever\n",
    "index_path = \"/Users/rohanjha/Desktop/college/research/TipTongue/document_index/data.properties\"\n",
    "index = pt.IndexFactory.of(index_path, memory=True) #, memory=['lexicon']) #, memory=True)\n",
    "\n",
    "bm25 = pt.BatchRetrieve(\n",
    "    index, \n",
    "    wmodel=\"BM25\", \n",
    "    verbose=True,\n",
    ")"
   ]
  },
  {
   "cell_type": "code",
   "execution_count": null,
   "metadata": {},
   "outputs": [],
   "source": [
    "\n",
    "    # controls={\"bm25.b\" : 0.75, \"bm25.k_1\" : 0.75})\n",
    "\n",
    "# train_topics = all_domain_queries['book'].iloc[:10]\n",
    "# train_qrels = all_domain_qrels['book']\n",
    "# pt.GridSearch(\n",
    "#     bm25,\n",
    "#     {\n",
    "#         bm25: {\n",
    "#             \"bm25.b\" : [0.3, 0.9], # [0, 0.1, 0.2, 0.3, 0.4, 0.5, 0.6, 0.7, 0.8, 0.9, 1 ],\n",
    "#             \"bm25.k_1\": [0.6, 1.2] # [0.3, 0.6, 0.9, 1.2, 1.4, 1.6, 2],\n",
    "#         }\n",
    "#     },\n",
    "#     train_topics,\n",
    "#     train_qrels,\n",
    "#     metric=\"map\",\n",
    "#     verbose=True,\n",
    "# )"
   ]
  },
  {
   "cell_type": "markdown",
   "metadata": {},
   "source": [
    "- No Parallel: 1m18s for 20 queries, 6m49s for 100 queries\n",
    "- Parallel(2): 1m6s for 20 queries\n",
    "- parallel(4): 58s for 20 queries , 2m25s for 100 queries, [4m11s, 4m13s] for 200 queries with/without index(memory=True), 3m20s for 200 queries with index.meta.data-source=file instead of fileinmem (no OOM error just slow warning)\n",
    "- Parallel(8): 1m40s for 20 queries, 3m2s for 100 queries, 4m11s for 200 queries | with heavy lag/legit OOM errors ending @ around 2min\n",
    "- Parallel(16) 1m35s for 100 queries, [2m27s with memory=inverted, lexicon], 2m43s with memory=True for 200 queries, 12m7s for 1000 queries | (no oom w/ =file)\n",
    "- Parallel(32) 2m58s for 200 queries (no oom w/ =file BUT 2 rounds of OOM errors - maybe because needs 2 rounds of saturating threads)"
   ]
  },
  {
   "cell_type": "code",
   "execution_count": null,
   "metadata": {},
   "outputs": [],
   "source": [
    "for domain in domains:\n",
    "    train_idxs, val_test_idxs = train_test_split(all_domain_queries[domain].index, train_size=0.9, test_size=0.1, random_state=0)\n",
    "    test_idxs, val_idxs = train_test_split(val_test_idxs, train_size=0.5, test_size=0.5, random_state=0)\n",
    "    train_qids = all_domain_queries[domain].iloc[train_idxs][\"qid\"]\n",
    "    test_qids = all_domain_queries[domain].iloc[test_idxs][\"qid\"]\n",
    "    val_qids = all_domain_queries[domain].iloc[val_idxs][\"qid\"]\n",
    "\n",
    "    # save train and test qids\n",
    "    train_qids.to_csv(f\"../BM25_DOCUMENT/{domain}_train_qids.csv\", index=False, header=False)\n",
    "    test_qids.to_csv(f\"../BM25_DOCUMENT/{domain}_test_qids.csv\", index=False, header=False)\n",
    "    val_qids.to_csv(f\"../BM25_DOCUMENT/{domain}_val_qids.csv\", index=False, header=False)\n",
    "    print(f\"Saved train, val, and test qids for {domain} to ../BM25_DOCUMENT/\")\n",
    "    val_queries = all_domain_queries[domain].iloc[val_idxs]\n",
    "    val_qrels = all_domain_qrels[domain]\n",
    "\n",
    "\n",
    "    # run and save the results\n",
    "    result = pt.Experiment(\n",
    "        retr_systems=[bm25.parallel(16)], \n",
    "        topics=val_queries, \n",
    "        qrels=val_qrels, \n",
    "        eval_metrics=[\"map\", \"ndcg\", \"recall\"], \n",
    "        names=[f\"BM25_{domain}_val\"],\n",
    "        save_dir=f\"../BM25_DOCUMENT/\",\n",
    "        filter_by_qrels=True, # many queries in topics dont have qrels\n",
    "        # filter_by_queries=True, # many qrels dont have queries\n",
    "        # verbose=True,\n",
    "        # batch_size=\\\\\n",
    "    )\n",
    "    print(f\"Saved results for {domain} to ../BM25_DOCUMENT/\")\n",
    "    print(result)"
   ]
  },
  {
   "cell_type": "markdown",
   "metadata": {},
   "source": [
    "# Random tests stuff"
   ]
  },
  {
   "cell_type": "code",
   "execution_count": null,
   "metadata": {},
   "outputs": [],
   "source": [
    "val_book_qrels = pickle.load(open(\"../DATA/val_book_qrels.pkl\", 'rb'))\n",
    "val_book_queries_documents = pickle.load(open(\"../DATA/val_book_queries_documents.pkl\", 'rb'))"
   ]
  },
  {
   "cell_type": "code",
   "execution_count": null,
   "metadata": {},
   "outputs": [],
   "source": [
    "val_book_qrels"
   ]
  },
  {
   "cell_type": "code",
   "execution_count": null,
   "metadata": {},
   "outputs": [],
   "source": [
    "val_book_queries_documents[0]"
   ]
  },
  {
   "cell_type": "code",
   "execution_count": null,
   "metadata": {},
   "outputs": [],
   "source": [
    "book_queries = pickle.load(open(\"../DATA/book_queries.pkl\", 'rb'))"
   ]
  },
  {
   "cell_type": "code",
   "execution_count": null,
   "metadata": {},
   "outputs": [],
   "source": []
  },
  {
   "cell_type": "code",
   "execution_count": 14,
   "metadata": {},
   "outputs": [],
   "source": [
    "# New Pipeline using Luis's data\n",
    "\n",
    "domains = ['book', 'movie', 'music', 'game']\n",
    "all_domain_queries, all_domain_qrels = {}, {}\n",
    "for domain in domains:\n",
    "    qrels = {}\n",
    "    queries = {}\n",
    "    for split in ['train', 'val', 'test']:\n",
    "        qrels_dict = pickle.load(open(f\"../DATA/{split}_{domain}_qrels.pkl\", 'rb'))\n",
    "        queries_documents = pickle.load(open(f\"../DATA/{split}_{domain}_queries_documents.pkl\", 'rb'))\n",
    "        queries_dict = {\n",
    "            qid : \"\".join([x if x.isalnum() else \" \" for x in query]) \n",
    "            for qid, (query, _) in zip(qrels_dict.keys(), queries_documents)\n",
    "        }\n",
    "        qrels[split] = pd.DataFrame([(qid, docno, 1) for qid, docno in qrels_dict.items()], columns=['qid', 'docno', 'label'])\n",
    "        queries[split] = pd.DataFrame(list(queries_dict.items()), columns=['qid', 'query'])\n",
    "\n",
    "    all_domain_queries[domain] = queries\n",
    "    all_domain_qrels[domain] = qrels\n",
    "\n"
   ]
  },
  {
   "cell_type": "code",
   "execution_count": 15,
   "metadata": {},
   "outputs": [],
   "source": [
    "for domain in domains:\n",
    "    for split in ['train', 'val', 'test']:\n",
    "        assert set(all_domain_queries[domain][split].qid) == set(all_domain_qrels[domain][split].qid)\n"
   ]
  },
  {
   "cell_type": "code",
   "execution_count": 17,
   "metadata": {},
   "outputs": [],
   "source": [
    "# set up index and bm25 retriever\n",
    "index_path = \"/Users/rohanjha/Desktop/college/research/TipTongue/document_index/data.properties\"\n",
    "index = pt.IndexFactory.of(index_path) #, memory=['lexicon']) #, memory=True)\n",
    "\n",
    "bm25 = pt.BatchRetrieve(\n",
    "    index, \n",
    "    wmodel=\"BM25\", \n",
    "    # verbose=True,\n",
    "    # controls = {\"bm25.b\" : 0.75, \"bm25.k_1\" : 1.2}\n",
    ")"
   ]
  },
  {
   "cell_type": "markdown",
   "metadata": {},
   "source": [
    "# Run Experiments with gridsearched params\n",
    "(Gridsearch code is below this experiment)"
   ]
  },
  {
   "cell_type": "code",
   "execution_count": 18,
   "metadata": {},
   "outputs": [],
   "source": [
    "gridsearched_bm25_params = {\n",
    "    'book' : {\"bm25.b\" : 0.45, \"bm25.k_1\" : 0.3},\n",
    "    'movie' : {\"bm25.b\" : 0.6, \"bm25.k_1\" : 1.6},\n",
    "    'music' : {\"bm25.b\" : 0, \"bm25.k_1\" : 2},\n",
    "    'game' : {\"bm25.b\" : 0.3, \"bm25.k_1\" : 0.6},\n",
    "}"
   ]
  },
  {
   "cell_type": "code",
   "execution_count": 19,
   "metadata": {},
   "outputs": [
    {
     "name": "stdout",
     "output_type": "stream",
     "text": [
      "100 100\n"
     ]
    },
    {
     "name": "stderr",
     "output_type": "stream",
     "text": [
      "PyTerrier 0.10.0 has loaded Terrier 5.8 (built by craigm on 2023-11-01 18:05) and terrier-helper 0.0.8\n",
      "\n",
      "PyTerrier 0.10.0 has loaded Terrier 5.8 (built by craigm on 2023-11-01 18:05) and terrier-helper 0.0.8\n",
      "\n",
      "PyTerrier 0.10.0 has loaded Terrier 5.8 (built by craigm on 2023-11-01 18:05) and terrier-helper 0.0.8\n",
      "\n",
      "PyTerrier 0.10.0 has loaded Terrier 5.8 (built by craigm on 2023-11-01 18:05) and terrier-helper 0.0.8\n",
      "\n",
      "PyTerrier 0.10.0 has loaded Terrier 5.8 (built by craigm on 2023-11-01 18:05) and terrier-helper 0.0.8\n",
      "\n",
      "PyTerrier 0.10.0 has loaded Terrier 5.8 (built by craigm on 2023-11-01 18:05) and terrier-helper 0.0.8\n",
      "\n",
      "PyTerrier 0.10.0 has loaded Terrier 5.8 (built by craigm on 2023-11-01 18:05) and terrier-helper 0.0.8\n",
      "\n",
      "PyTerrier 0.10.0 has loaded Terrier 5.8 (built by craigm on 2023-11-01 18:05) and terrier-helper 0.0.8\n",
      "\n",
      "No etc/terrier.properties, using terrier.default.properties for bootstrap configuration.\n",
      "No etc/terrier.properties, using terrier.default.properties for bootstrap configuration.\n",
      "No etc/terrier.properties, using terrier.default.properties for bootstrap configuration.\n",
      "No etc/terrier.properties, using terrier.default.properties for bootstrap configuration.\n",
      "No etc/terrier.properties, using terrier.default.properties for bootstrap configuration.\n",
      "No etc/terrier.properties, using terrier.default.properties for bootstrap configuration.\n",
      "No etc/terrier.properties, using terrier.default.properties for bootstrap configuration.\n",
      "No etc/terrier.properties, using terrier.default.properties for bootstrap configuration.\n",
      "PyTerrier 0.10.0 has loaded Terrier 5.8 (built by craigm on 2023-11-01 18:05) and terrier-helper 0.0.8\n",
      "\n",
      "PyTerrier 0.10.0 has loaded Terrier 5.8 (built by craigm on 2023-11-01 18:05) and terrier-helper 0.0.8\n",
      "\n",
      "PyTerrier 0.10.0 has loaded Terrier 5.8 (built by craigm on 2023-11-01 18:05) and terrier-helper 0.0.8\n",
      "\n",
      "PyTerrier 0.10.0 has loaded Terrier 5.8 (built by craigm on 2023-11-01 18:05) and terrier-helper 0.0.8\n",
      "\n",
      "No etc/terrier.properties, using terrier.default.properties for bootstrap configuration.\n",
      "PyTerrier 0.10.0 has loaded Terrier 5.8 (built by craigm on 2023-11-01 18:05) and terrier-helper 0.0.8\n",
      "\n",
      "No etc/terrier.properties, using terrier.default.properties for bootstrap configuration.\n",
      "PyTerrier 0.10.0 has loaded Terrier 5.8 (built by craigm on 2023-11-01 18:05) and terrier-helper 0.0.8\n",
      "\n",
      "No etc/terrier.properties, using terrier.default.properties for bootstrap configuration.\n",
      "No etc/terrier.properties, using terrier.default.properties for bootstrap configuration.\n",
      "No etc/terrier.properties, using terrier.default.properties for bootstrap configuration.\n",
      "PyTerrier 0.10.0 has loaded Terrier 5.8 (built by craigm on 2023-11-01 18:05) and terrier-helper 0.0.8\n",
      "\n",
      "No etc/terrier.properties, using terrier.default.properties for bootstrap configuration.\n",
      "PyTerrier 0.10.0 has loaded Terrier 5.8 (built by craigm on 2023-11-01 18:05) and terrier-helper 0.0.8\n",
      "\n",
      "No etc/terrier.properties, using terrier.default.properties for bootstrap configuration.\n",
      "No etc/terrier.properties, using terrier.default.properties for bootstrap configuration.\n"
     ]
    },
    {
     "name": "stdout",
     "output_type": "stream",
     "text": [
      "22:25:12.725 [main] WARN org.terrier.structures.BaseCompressingMetaIndex - Structure meta reading data file directly from disk (SLOW) - try index.meta.data-source=fileinmem in the index properties file. 8.7 GiB of memory would be required.\n",
      "22:25:13.056 [main] WARN org.terrier.structures.BaseCompressingMetaIndex - Structure meta reading data file directly from disk (SLOW) - try index.meta.data-source=fileinmem in the index properties file. 8.7 GiB of memory would be required.\n",
      "22:25:13.055 [main] WARN org.terrier.structures.BaseCompressingMetaIndex - Structure meta reading data file directly from disk (SLOW) - try index.meta.data-source=fileinmem in the index properties file. 8.7 GiB of memory would be required.\n",
      "22:25:13.134 [main] WARN org.terrier.structures.BaseCompressingMetaIndex - Structure meta reading data file directly from disk (SLOW) - try index.meta.data-source=fileinmem in the index properties file. 8.7 GiB of memory would be required.\n",
      "22:25:13.177 [main] WARN org.terrier.structures.BaseCompressingMetaIndex - Structure meta reading data file directly from disk (SLOW) - try index.meta.data-source=fileinmem in the index properties file. 8.7 GiB of memory would be required.\n",
      "22:25:13.247 [main] WARN org.terrier.structures.BaseCompressingMetaIndex - Structure meta reading data file directly from disk (SLOW) - try index.meta.data-source=fileinmem in the index properties file. 8.7 GiB of memory would be required.\n",
      "22:25:13.252 [main] WARN org.terrier.structures.BaseCompressingMetaIndex - Structure meta reading data file directly from disk (SLOW) - try index.meta.data-source=fileinmem in the index properties file. 8.7 GiB of memory would be required.\n",
      "22:25:13.302 [main] WARN org.terrier.structures.BaseCompressingMetaIndex - Structure meta reading data file directly from disk (SLOW) - try index.meta.data-source=fileinmem in the index properties file. 8.7 GiB of memory would be required.\n",
      "22:25:13.373 [main] WARN org.terrier.structures.BaseCompressingMetaIndex - Structure meta reading data file directly from disk (SLOW) - try index.meta.data-source=fileinmem in the index properties file. 8.7 GiB of memory would be required.\n",
      "22:25:13.423 [main] WARN org.terrier.structures.BaseCompressingMetaIndex - Structure meta reading data file directly from disk (SLOW) - try index.meta.data-source=fileinmem in the index properties file. 8.7 GiB of memory would be required.\n",
      "22:25:13.589 [main] WARN org.terrier.structures.BaseCompressingMetaIndex - Structure meta reading data file directly from disk (SLOW) -22:25:13.600 [main] WARN org.terrier.structures.BaseCompressingMetaIndex - Structure meta reading data file directly from disk (SLOW) - try index.meta.data-source=fileinmem in the index properties file. 8.7 GiB of memory would be required.\n",
      " try index.meta.data-source=fileinmem in the index properties file. 8.7 GiB of memory would be required.\n",
      "22:25:13.605 [main] WARN org.terrier.structures.BaseCompressingMetaIndex - Structure meta reading data file directly from disk (SLOW) - try index.meta.data-source=fileinmem in the index properties file. 8.7 GiB of memory would be required.\n",
      "22:25:13.822 [main] WARN org.terrier.structures.BaseCompressingMetaIndex - Structure meta reading data file directly from disk (SLOW) - try index.meta.data-source=fileinmem in the index properties file. 8.7 GiB of memory would be required.\n",
      "22:25:14.252 [main] WARN org.terrier.structures.BaseCompressingMetaIndex - Structure meta reading data file directly from disk (SLOW) - try index.meta.data-source=fileinmem in the index properties file. 8.7 GiB of memory would be required.\n",
      "Saved results for book val default to ../BM25_DOCUMENT/\n",
      "                           name       map  recip_rank    ndcg  recall_1  \\\n",
      "0  BM25_book_val_default_params  0.134365    0.134365  0.1893       0.1   \n",
      "\n",
      "   recall_5  recall_10  recall_50  recall_100  recall_250  recall_500  \\\n",
      "0      0.16        0.2       0.26        0.29        0.36        0.41   \n",
      "\n",
      "   recall_1000  \n",
      "0         0.49  \n",
      "100 100\n",
      "22:29:29.113 [main] WARN org.terrier.structures.BaseCompressingMetaIndex - Structure meta reading data file directly from disk (SLOW) - try index.meta.data-source=fileinmem in the index properties file. 8.7 GiB of memory would be required.\n",
      "22:29:29.638 [main] WARN org.terrier.structures.BaseCompressingMetaIndex - Structure meta reading data file directly from disk (SLOW) - try index.meta.data-source=fileinmem in the index properties file. 8.7 GiB of memory would be required.\n",
      "22:29:29.809 [main] WARN org.terrier.structures.BaseCompressingMetaIndex - Structure meta reading data file directly from disk (SLOW) - try index.meta.data-source=fileinmem in the index properties file. 8.7 GiB of memory would be required.\n",
      "22:29:29.905 [main] WARN org.terrier.structures.BaseCompressingMetaIndex - Structure meta reading data file directly from disk (SLOW) - try index.meta.data-source=fileinmem in the index properties file. 8.7 GiB of memory would be required.\n",
      "22:29:29.978 [main] WARN org.terrier.structures.BaseCompressingMetaIndex - Structure meta reading data file directly from disk (SLOW) - try index.meta.data-source=fileinmem in the index properties file. 8.7 GiB of memory would be required.\n",
      "22:29:29.975 [main] WARN org.terrier.structures.BaseCompressingMetaIndex - Structure meta reading data file directly from disk (SLOW) - try index.meta.data-source=fileinmem in the index properties file. 8.7 GiB of memory would be required.\n",
      "22:29:30.033 [main] WARN org.terrier.structures.BaseCompressingMetaIndex - Structure meta reading data file directly from disk (SLOW) - try index.meta.data-source=fileinmem in the index properties file. 8.7 GiB of memory would be required.\n",
      "22:29:30.087 [main] WARN org.terrier.structures.BaseCompressingMetaIndex - Structure meta reading data file directly from disk (SLOW) - try index.meta.data-source=fileinmem in the index properties file. 8.7 GiB of memory would be required.\n",
      "22:29:30.117 [main] WARN org.terrier.structures.BaseCompressingMetaIndex - Structure meta reading data file directly from disk (SLOW) - try index.meta.data-source=fileinmem in the index properties file. 8.7 GiB of memory would be required.\n",
      "22:29:30.143 [main] WARN org.terrier.structures.BaseCompressingMetaIndex - Structure meta reading data file directly from disk (SLOW) - try index.meta.data-source=fileinmem in the index properties file. 8.7 GiB of memory would be required.\n",
      "22:29:30.168 [main] WARN org.terrier.structures.BaseCompressingMetaIndex - Structure meta reading data file directly from disk (SLOW) - try index.meta.data-source=fileinmem in the index properties file. 8.7 GiB of memory would be required.\n",
      "22:29:30.202 [main] WARN org.terrier.structures.BaseCompressingMetaIndex - Structure meta reading data file directly from disk (SLOW) - try index.meta.data-source=fileinmem in the index properties file. 8.7 GiB of memory would be required.\n",
      "22:29:30.218 [main] WARN org.terrier.structures.BaseCompressingMetaIndex - Structure meta reading data file directly from disk (SLOW) - try index.meta.data-source=fileinmem in the index properties file. 8.7 GiB of memory would be required.\n",
      "22:29:30.254 [main] WARN org.terrier.structures.BaseCompressingMetaIndex - Structure meta reading data file directly from disk (SLOW) - try index.meta.data-source=fileinmem in the index properties file. 8.7 GiB of memory would be required.\n",
      "22:29:30.460 [main] WARN org.terrier.structures.BaseCompressingMetaIndex - Structure meta reading data file directly from disk (SLOW) - try index.meta.data-source=fileinmem in the index properties file. 8.7 GiB of memory would be required.\n",
      "Saved results for book test default to ../BM25_DOCUMENT/\n",
      "                            name       map  recip_rank      ndcg  recall_1  \\\n",
      "0  BM25_book_test_default_params  0.112696    0.112696  0.178842      0.07   \n",
      "\n",
      "   recall_5  recall_10  recall_50  recall_100  recall_250  recall_500  \\\n",
      "0      0.15       0.19       0.33        0.36        0.41        0.43   \n",
      "\n",
      "   recall_1000  \n",
      "0         0.51  \n",
      "100 100\n"
     ]
    },
    {
     "name": "stderr",
     "output_type": "stream",
     "text": [
      "PyTerrier 0.10.0 has loaded Terrier 5.8 (built by craigm on 2023-11-01 18:05) and terrier-helper 0.0.8\n",
      "\n",
      "PyTerrier 0.10.0 has loaded Terrier 5.8 (built by craigm on 2023-11-01 18:05) and terrier-helper 0.0.8\n",
      "\n",
      "PyTerrier 0.10.0 has loaded Terrier 5.8 (built by craigm on 2023-11-01 18:05) and terrier-helper 0.0.8\n",
      "\n",
      "PyTerrier 0.10.0 has loaded Terrier 5.8 (built by craigm on 2023-11-01 18:05) and terrier-helper 0.0.8\n",
      "\n",
      "PyTerrier 0.10.0 has loaded Terrier 5.8 (built by craigm on 2023-11-01 18:05) and terrier-helper 0.0.8\n",
      "\n",
      "No etc/terrier.properties, using terrier.default.properties for bootstrap configuration.\n",
      "No etc/terrier.properties, using terrier.default.properties for bootstrap configuration.\n",
      "No etc/terrier.properties, using terrier.default.properties for bootstrap configuration.\n",
      "No etc/terrier.properties, using terrier.default.properties for bootstrap configuration.\n",
      "No etc/terrier.properties, using terrier.default.properties for bootstrap configuration.\n",
      "/Users/rohanjha/miniforge3/envs/11-797/lib/python3.10/site-packages/pyterrier/parallel.py:32: UserWarning: Avoiding reinit of PyTerrier\n",
      "  warn(\"Avoiding reinit of PyTerrier\")\n",
      "/Users/rohanjha/miniforge3/envs/11-797/lib/python3.10/site-packages/pyterrier/parallel.py:32: UserWarning: Avoiding reinit of PyTerrier\n",
      "  warn(\"Avoiding reinit of PyTerrier\")\n",
      "/Users/rohanjha/miniforge3/envs/11-797/lib/python3.10/site-packages/pyterrier/parallel.py:32: UserWarning: Avoiding reinit of PyTerrier\n",
      "  warn(\"Avoiding reinit of PyTerrier\")\n",
      "/Users/rohanjha/miniforge3/envs/11-797/lib/python3.10/site-packages/pyterrier/parallel.py:32: UserWarning: Avoiding reinit of PyTerrier\n",
      "  warn(\"Avoiding reinit of PyTerrier\")\n",
      "/Users/rohanjha/miniforge3/envs/11-797/lib/python3.10/site-packages/pyterrier/parallel.py:32: UserWarning: Avoiding reinit of PyTerrier\n",
      "  warn(\"Avoiding reinit of PyTerrier\")\n"
     ]
    },
    {
     "name": "stdout",
     "output_type": "stream",
     "text": [
      "22:33:28.452 [main] WARN org.terrier.structures.BaseCompressingMetaIndex - Structure meta reading data file directly from disk (SLOW) - try index.meta.data-source=fileinmem in the index properties file. 8.7 GiB of memory would be required.\n",
      "22:33:29.414 [main] WARN org.terrier.structures.BaseCompressingMetaIndex - Structure meta reading data file directly from disk (SLOW) - try index.meta.data-source=fileinmem in the index properties file. 8.7 GiB of memory would be required.\n",
      "22:33:29.447 [main] WARN org.terrier.structures.BaseCompressingMetaIndex - Structure meta reading data file directly from disk (SLOW) - try index.meta.data-source=fileinmem in the index properties file. 8.7 GiB of memory would be required.\n",
      "22:33:29.478 [main] WARN org.terrier.structures.BaseCompressingMetaIndex - Structure meta reading data file directly from disk (SLOW) - try index.meta.data-source=fileinmem in the index properties file. 8.7 GiB of memory would be required.\n",
      "22:33:29.727 [main] WARN org.terrier.structures.BaseCompressingMetaIndex - Structure meta reading data file directly from disk (SLOW) - try index.meta.data-source=fileinmem in the index properties file. 8.7 GiB of memory would be required.\n",
      "22:33:30.081 [main] WARN org.terrier.structures.BaseCompressingMetaIndex - Structure meta reading data file directly from disk (SLOW) - try index.meta.data-source=fileinmem in the index properties file. 8.7 GiB of memory would be required.\n",
      "22:33:30.266 [main] WARN org.terrier.structures.BaseCompressingMetaIndex - Structure meta reading data file directly from disk (SLOW) - try index.meta.data-source=fileinmem in the index properties file. 8.7 GiB of memory would be required.\n",
      "22:33:30.308 [main] WARN org.terrier.structures.BaseCompressingMetaIndex - Structure meta reading data file directly from disk (SLOW) - try index.meta.data-source=fileinmem in the index properties file. 8.7 GiB of memory would be required.\n",
      "22:33:30.389 [main] WARN org.terrier.structures.BaseCompressingMetaIndex - Structure meta reading data file directly from disk (SLOW) - try index.meta.data-source=fileinmem in the index properties file. 8.7 GiB of memory would be required.\n",
      "22:33:30.481 [main] WARN org.terrier.structures.BaseCompressingMetaIndex - Structure meta reading data file directly from disk (SLOW) - try index.meta.data-source=fileinmem in the index properties file. 8.7 GiB of memory would be required.\n",
      "22:33:30.831 [main] WARN org.terrier.structures.BaseCompressingMetaIndex - Structure meta reading data file directly from disk (SLOW) - try index.meta.data-source=fileinmem in the index properties file. 8.7 GiB of memory would be required.\n",
      "22:33:33.750 [main] WARN org.terrier.structures.BaseCompressingMetaIndex - Structure meta reading data file directly from disk (SLOW) - try index.meta.data-source=fileinmem in the index properties file. 8.7 GiB of memory would be required.\n",
      "22:33:34.010 [main] WARN or22:33:34.010 [main] WARN org.terrier.structures.BaseCompressingMetaIndex - Structure meta reading data file directly from disk (SLOW) - try index.meta.data-source=fileinmem in the index properties file. 8.7 GiB of memory would be required.\n",
      "g.terrier.structures.BaseCompressingMetaIndex - Structure meta reading data file directly from disk (SLOW) - try index.meta.data-source=fileinmem in the index properties file. 8.7 GiB of memory would be required.\n",
      "22:33:34.029 [main] WARN org.terrier.structures.BaseCompressingMetaIndex - Structure meta reading data file directly from disk (SLOW) - try index.meta.data-source=fileinmem in the index properties file. 8.7 GiB of memory would be required.\n",
      "Saved results for movie val default to ../BM25_DOCUMENT/\n",
      "                            name       map  recip_rank      ndcg  recall_1  \\\n",
      "0  BM25_movie_val_default_params  0.046662    0.046662  0.105756      0.02   \n",
      "\n",
      "   recall_5  recall_10  recall_50  recall_100  recall_250  recall_500  \\\n",
      "0      0.08       0.09       0.18        0.25        0.29        0.34   \n",
      "\n",
      "   recall_1000  \n",
      "0         0.44  \n",
      "100 100\n"
     ]
    },
    {
     "name": "stderr",
     "output_type": "stream",
     "text": [
      "PyTerrier 0.10.0 has loaded Terrier 5.8 (built by craigm on 2023-11-01 18:05) and terrier-helper 0.0.8\n",
      "\n",
      "PyTerrier 0.10.0 has loaded Terrier 5.8 (built by craigm on 2023-11-01 18:05) and terrier-helper 0.0.8\n",
      "\n",
      "PyTerrier 0.10.0 has loaded Terrier 5.8 (built by craigm on 2023-11-01 18:05) and terrier-helper 0.0.8\n",
      "\n",
      "No etc/terrier.properties, using terrier.default.properties for bootstrap configuration.\n",
      "No etc/terrier.properties, using terrier.default.properties for bootstrap configuration.\n",
      "No etc/terrier.properties, using terrier.default.properties for bootstrap configuration.\n",
      "/Users/rohanjha/miniforge3/envs/11-797/lib/python3.10/site-packages/pyterrier/parallel.py:32: UserWarning: Avoiding reinit of PyTerrier\n",
      "  warn(\"Avoiding reinit of PyTerrier\")\n",
      "/Users/rohanjha/miniforge3/envs/11-797/lib/python3.10/site-packages/pyterrier/parallel.py:32: UserWarning: Avoiding reinit of PyTerrier\n",
      "  warn(\"Avoiding reinit of PyTerrier\")\n",
      "/Users/rohanjha/miniforge3/envs/11-797/lib/python3.10/site-packages/pyterrier/parallel.py:32: UserWarning: Avoiding reinit of PyTerrier\n",
      "  warn(\"Avoiding reinit of PyTerrier\")\n"
     ]
    },
    {
     "name": "stdout",
     "output_type": "stream",
     "text": [
      "22:37:46.220 [main] WARN org.terrier.structures.BaseCompressingMetaIndex - Structure meta reading data file directly from disk (SLOW) - try index.meta.data-source=fileinmem in the index properties file. 8.7 GiB of memory would be required.\n",
      "22:37:46.225 [main] WARN org.terrier.structures.BaseCompressingMetaIndex - Structure meta reading data file directly from disk (SLOW) - try index.meta.data-source=fileinmem in the index properties file. 8.7 GiB of memory would be required.\n",
      "22:37:46.232 [main] WARN org.terrier.structures.BaseCompressingMetaIndex - Structure meta reading data file directly from disk (SLOW) - try index.meta.data-source=fileinmem in the index properties file. 8.7 GiB of memory would be required.\n",
      "22:37:46.222 [main] WARN org.terrier.structures.BaseCompressingMetaIndex - Structure meta reading data file directly from disk (SLOW) - try index.meta.data-source=fileinmem in the index properties file. 8.7 GiB of memory would be required.\n",
      "22:37:46.227 [main] WARN org.22:37:46.233 [main] WARN org.terrier.structures.BaseCompressingMetaIndex - Structure meta reading data file directly from disk (SLOW) - try in2d2ex.m:37:46e.231ta.d ata-[main] WARsN oorgurtce=fileerriienmem in the index pro.perrti.estsr fileu.t ctureesr.rBiaesre8C..s7tr oGmipuB ocrfest smemory would bei reqngMeutaIndex - Structure meta readreiuing rdedas.BasetCompare file directly from disk (SLOW) - try index.meta.data-sourc.\n",
      "ssingMetaIndeex= fileinme-m Structure meta reading data file directly from disk (SLOW) - try index.meta.data-source=fileinmem in the index properties file. 8.7 GiB of memory would be required.\n",
      " in the index properties file. 8.7 GiB of memory would be required.\n",
      "22:37:46.455 [main] WARN org.terrier.structures.BaseCompressingMetaIndex - Structure meta reading data file directly from disk (SLOW) - try index.meta.data-source=fileinmem in the index properties file. 8.7 GiB of memory would be required.\n",
      "22:37:46.455 [main] WARN org.terrier.structures.BaseCompressingMetaIndex - Structure meta reading data file directly from disk (SLOW) - try index.meta.data-source=fileinmem in the index properties file. 8.7 GiB of memory would be required.\n",
      "22:37:46.668 [main] WARN org.terrier.structures.BaseCompressingMetaIndex - Structure meta reading data file directly from disk (SLOW) - try index.meta.data-source=fileinmem in the index properties file. 8.7 GiB of memory would be required.\n",
      "22:37:46.901 [main] WARN org.terrier.structures.BaseCompressingMetaIndex - Structure meta reading data file directly from disk (SLOW) - try index.meta.data-source=fileinmem in the index properties file. 8.7 GiB of memory would be required.\n",
      "22:37:47.183 [main] WARN org.terrier.structures.BaseCompressingMetaIndex - Structure meta reading data file directly from disk (SLOW) - try index.meta.data-source=fileinmem in the index properties file. 8.7 GiB of memory would be required.\n",
      "22:37:47.348 [main] WARN org.terrier.structures.BaseCompressingMetaIndex - Structure meta reading data file directly from disk (SLOW) - try index.meta.data-source=fileinmem in the index properties file. 8.7 GiB of memory would be required.\n",
      "22:37:51.883 [main] WARN org.terrier.structures.BaseCompressingMetaIndex - Structure meta reading data file directly from disk (SLOW) - try index.meta.data-source=fileinmem in the index properties file. 8.7 GiB of memory would be required.\n",
      "22:37:52.167 [main] WARN org.terrier.structures.BaseCompressingMetaIndex - Structure meta reading data file directly from disk (SLOW) - try index.meta.data-source=fileinmem in the index properties file. 8.7 GiB of memory would be required.\n",
      "Saved results for movie test default to ../BM25_DOCUMENT/\n",
      "                             name       map  recip_rank      ndcg  recall_1  \\\n",
      "0  BM25_movie_test_default_params  0.039897    0.039897  0.088859      0.01   \n",
      "\n",
      "   recall_5  recall_10  recall_50  recall_100  recall_250  recall_500  \\\n",
      "0      0.06       0.09       0.16         0.2        0.23        0.29   \n",
      "\n",
      "   recall_1000  \n",
      "0         0.36  \n",
      "100 100\n"
     ]
    },
    {
     "name": "stderr",
     "output_type": "stream",
     "text": [
      "PyTerrier 0.10.0 has loaded Terrier 5.8 (built by craigm on 2023-11-01 18:05) and terrier-helper 0.0.8\n",
      "\n",
      "PyTerrier 0.10.0 has loaded Terrier 5.8 (built by craigm on 2023-11-01 18:05) and terrier-helper 0.0.8\n",
      "\n",
      "PyTerrier 0.10.0 has loaded Terrier 5.8 (built by craigm on 2023-11-01 18:05) and terrier-helper 0.0.8\n",
      "\n",
      "PyTerrier 0.10.0 has loaded Terrier 5.8 (built by craigm on 2023-11-01 18:05) and terrier-helper 0.0.8\n",
      "\n",
      "PyTerrier 0.10.0 has loaded Terrier 5.8 (built by craigm on 2023-11-01 18:05) and terrier-helper 0.0.8\n",
      "\n",
      "No etc/terrier.properties, using terrier.default.properties for bootstrap configuration.\n",
      "No etc/terrier.properties, using terrier.default.properties for bootstrap configuration.\n",
      "No etc/terrier.properties, using terrier.default.properties for bootstrap configuration.\n",
      "No etc/terrier.properties, using terrier.default.properties for bootstrap configuration.\n",
      "No etc/terrier.properties, using terrier.default.properties for bootstrap configuration.\n",
      "/Users/rohanjha/miniforge3/envs/11-797/lib/python3.10/site-packages/pyterrier/parallel.py:32: UserWarning: Avoiding reinit of PyTerrier\n",
      "  warn(\"Avoiding reinit of PyTerrier\")\n",
      "/Users/rohanjha/miniforge3/envs/11-797/lib/python3.10/site-packages/pyterrier/parallel.py:32: UserWarning: Avoiding reinit of PyTerrier\n",
      "  warn(\"Avoiding reinit of PyTerrier\")\n",
      "/Users/rohanjha/miniforge3/envs/11-797/lib/python3.10/site-packages/pyterrier/parallel.py:32: UserWarning: Avoiding reinit of PyTerrier\n",
      "  warn(\"Avoiding reinit of PyTerrier\")\n",
      "/Users/rohanjha/miniforge3/envs/11-797/lib/python3.10/site-packages/pyterrier/parallel.py:32: UserWarning: Avoiding reinit of PyTerrier\n",
      "  warn(\"Avoiding reinit of PyTerrier\")\n",
      "/Users/rohanjha/miniforge3/envs/11-797/lib/python3.10/site-packages/pyterrier/parallel.py:32: UserWarning: Avoiding reinit of PyTerrier\n",
      "  warn(\"Avoiding reinit of PyTerrier\")\n"
     ]
    },
    {
     "name": "stdout",
     "output_type": "stream",
     "text": [
      "22:41:57.152 [main] WARN org.terrier.structures.BaseCompressingMetaIndex - Structure meta reading data file directly from disk (SLOW) - try index.meta.data-source=fileinmem in the index properties file. 8.7 GiB of memory would be required.\n",
      "22:41:57.763 [main] WARN org.terrier.structures.BaseCompressingMetaIndex - Structure meta reading data file directly from disk (SLOW) - try index.meta.data-source=fileinmem in the index properties file. 8.7 GiB of memory would be required.\n",
      "22:41:57.783 [main] WARN org.terrier.structures.BaseCompressingMetaIndex - Structure meta reading data file directly from disk (SLOW) - try index.meta.data-source=fileinmem in the index properties file. 8.7 GiB of memory would be required.\n",
      "22:41:57.832 [main] WARN org.terrier.structures.BaseCompressingMetaIndex - Structure meta reading data file directly from disk (SLOW) - try index.meta.data-source=fileinmem in the index properties file. 8.7 GiB of memory would be required.\n",
      "22:41:58.025 [main] WARN org.terrier.structures.BaseCompressingMetaIndex - Structure meta reading data file directly from disk (SLOW) - try index.meta.data-source=fileinmem in the index properties file. 8.7 GiB of memory would be required.\n",
      "22:41:58.030 [main] WARN org.terrier.structures.BaseCompressingMetaIndex - Structure meta reading data file directly from disk (SLOW) - try index.meta.data-source=fileinmem in the index properties file. 8.7 GiB of memory would be required.\n",
      "22:41:58.117 [main] WARN org.terrier.structures.BaseCompressingMetaIndex - Structure meta reading data file directly from disk (SLOW) - try index.meta.data-source=fileinmem in the index properties file. 8.7 GiB of memory would be required.\n",
      "22:41:58.161 [main] WARN org.terrier.structures.BaseCompressingMetaIndex - Structure meta reading data file directly from disk (SLOW) - try index.meta.data-source=fileinmem in the index properties file. 8.7 GiB of memory would be required.\n",
      "22:41:58.366 [main] WARN org.terrier.structures.BaseCompressingMetaIndex - Structure meta reading data file directly from disk (SLOW) - try index.meta.data-source=fileinmem in the index properties file. 8.7 GiB of memory would be required.\n",
      "22:41:58.517 [main] WARN org.terrier.structures.BaseCompressingMetaIndex - Structure meta reading data file directly from disk (SLOW) - try index.meta.data-source=fileinmem in the index properties file. 8.7 GiB of memory would be required.\n",
      "22:41:58.676 [main] WARN org.terrier.structures.BaseCompressingMetaIndex - Structure meta reading data file directly from disk (SLOW) - try index.meta.data-source=fileinmem in the index properties file. 8.7 GiB of memory would be required.\n",
      "22:42:01.762 [main] WARN org.terrier.structures.BaseCompressingMetaIndex - Structure meta reading data file directly from disk (SLOW) - try index.meta.data-source=fileinmem in the index properties file. 8.7 GiB of memory would be required.\n",
      "22:42:01.977 [main] WARN org.terrier.structures.BaseCompressingMetaIndex - Structure meta reading data file directly from disk (SLOW) - try index.meta.data-source=fileinmem in the index properties file. 8.7 GiB of memory would be required.\n",
      "22:42:01.998 [main] WARN org.terrier.structures.BaseCompressingMetaIndex - Structure meta reading data file directly from disk (SLOW) - try index.meta.data-source=fileinmem in the index properties file. 8.7 GiB of memory would be required.\n",
      "22:42:02.000 [main] WARN org.terrier.structures.BaseCompressingMetaIndex - Structure meta reading data file directly from disk (SLOW) - try index.meta.data-source=fileinmem in the index properties file. 8.7 GiB of memory would be required.\n",
      "Saved results for music val default to ../BM25_DOCUMENT/\n",
      "                            name       map  recip_rank      ndcg  recall_1  \\\n",
      "0  BM25_music_val_default_params  0.012846    0.012846  0.023878      0.01   \n",
      "\n",
      "   recall_5  recall_10  recall_50  recall_100  recall_250  recall_500  \\\n",
      "0      0.02       0.02       0.02        0.03        0.03        0.06   \n",
      "\n",
      "   recall_1000  \n",
      "0          0.1  \n",
      "100 100\n"
     ]
    },
    {
     "name": "stderr",
     "output_type": "stream",
     "text": [
      "PyTerrier 0.10.0 has loaded Terrier 5.8 (built by craigm on 2023-11-01 18:05) and terrier-helper 0.0.8\n",
      "\n",
      "No etc/terrier.properties, using terrier.default.properties for bootstrap configuration.\n",
      "PyTerrier 0.10.0 has loaded Terrier 5.8 (built by craigm on 2023-11-01 18:05) and terrier-helper 0.0.8\n",
      "\n",
      "PyTerrier 0.10.0 has loaded Terrier 5.8 (built by craigm on 2023-11-01 18:05) and terrier-helper 0.0.8\n",
      "\n",
      "No etc/terrier.properties, using terrier.default.properties for bootstrap configuration.\n",
      "PyTerrier 0.10.0 has loaded Terrier 5.8 (built by craigm on 2023-11-01 18:05) and terrier-helper 0.0.8\n",
      "\n",
      "No etc/terrier.properties, using terrier.default.properties for bootstrap configuration.\n",
      "No etc/terrier.properties, using terrier.default.properties for bootstrap configuration.\n",
      "/Users/rohanjha/miniforge3/envs/11-797/lib/python3.10/site-packages/pyterrier/parallel.py:32: UserWarning: Avoiding reinit of PyTerrier\n",
      "  warn(\"Avoiding reinit of PyTerrier\")\n",
      "/Users/rohanjha/miniforge3/envs/11-797/lib/python3.10/site-packages/pyterrier/parallel.py:32: UserWarning: Avoiding reinit of PyTerrier\n",
      "  warn(\"Avoiding reinit of PyTerrier\")\n",
      "/Users/rohanjha/miniforge3/envs/11-797/lib/python3.10/site-packages/pyterrier/parallel.py:32: UserWarning: Avoiding reinit of PyTerrier\n",
      "  warn(\"Avoiding reinit of PyTerrier\")\n",
      "/Users/rohanjha/miniforge3/envs/11-797/lib/python3.10/site-packages/pyterrier/parallel.py:32: UserWarning: Avoiding reinit of PyTerrier\n",
      "  warn(\"Avoiding reinit of PyTerrier\")\n"
     ]
    },
    {
     "name": "stdout",
     "output_type": "stream",
     "text": [
      "22:44:57.421 [main] WARN org.terrier.structures.BaseCompressingMetaIndex - Structure meta reading data file directly from disk (SLOW) - try index.meta.data-source=fileinmem in the index properties file. 8.7 GiB of memory would be required.\n",
      "22:44:57.776 [main] WARN org.terrier.structures.BaseCompressingMetaIndex - Structure meta reading data file directly from disk (SLOW) - try index.meta.data-source=fileinmem in the index properties file. 8.7 GiB of memory would be required.\n",
      "22:44:57.863 [main] WARN org.terrier.structures.BaseCompressingMetaIndex - Structure meta reading data file directly from disk (SLOW) - try index.meta.data-source=fileinmem in the index properties file. 8.7 GiB of memory would be required.\n",
      "22:44:57.905 [main] WARN org.terrier.structures.BaseCompressingMetaIndex - Structure meta reading data file directly from disk (SLOW) - try index.meta.data-source=fileinmem in the index properties file. 8.7 GiB of memory would be required.\n",
      "22:44:57.927 [main] WARN org.terrier.structures.BaseCompressingMetaIndex - Structure meta reading data file directly from disk (SLOW) - try index.meta.data-source=fileinmem in the index properties file. 8.7 GiB of memory would be required.\n",
      "22:44:57.973 [main] WARN org.terrier.structures.BaseCompressingMetaIndex - Structure meta reading data file directly from disk (SLOW) - try index.meta.data-source=fileinmem in the index properties file. 8.7 GiB of memory would be required.\n",
      "22:44:58.143 [main] WARN org.terrier.structures.BaseCompressingMetaIndex - Structure meta reading data file directly from disk (SLOW) - try index.meta.data-source=fileinmem in the index properties file. 8.7 GiB of memory would be required.\n",
      "22:44:58.244 [main] WARN org.terrier.structures.BaseCompressingMetaIndex - Structure meta reading data file directly from disk (SLOW) - try index.meta.data-source=fileinmem in the index properties file. 8.7 GiB of memory would be required.\n",
      "22:44:58.284 [main] WARN org.terrier.structures.BaseCompressingMetaIndex - Structure meta reading data file directly from disk (SLOW) - try index.meta.data-source=fileinmem in the index properties file. 8.7 GiB of memory would be required.\n",
      "22:44:58.334 [main] WARN org.terrier.structures.BaseCompressingMetaIndex - Structure meta reading data file directly from disk (SLOW) - try index.meta.data-source=fileinmem in the index properties file. 8.7 GiB of memory would be required.\n",
      "22:44:58.503 [main] WARN org.terrier.structures.BaseCompressingMetaIndex - Structure meta reading data file directly from disk (SLOW) - try index.meta.data-source=fileinmem in the index properties file. 8.7 GiB of memory would be required.\n",
      "22:44:58.508 [main] WARN org.terrier.structures.BaseCompressingMetaIndex - Structure meta reading data file directly from disk (SLOW) - try index.meta.data-source=fileinmem in the index properties file. 8.7 GiB of memory would be required.\n",
      "22:45:01.001 [main] WARN org.terrier.structures.BaseCompressingMetaIndex - Structure meta reading data file directly from disk (SLOW) - try index.meta.data-source=fileinmem in the index properties file. 8.7 GiB of memory would be required.\n",
      "22:45:01.051 [main] WARN org.terrier.structures.BaseCompressingMetaIndex - Structure meta reading data file directly from disk (SLOW) - try index.meta.data-source=fileinmem in the index properties file. 8.7 GiB of memory would be required.\n",
      "22:45:01.109 [main] WARN org.terrier.structures.BaseCompressingMetaIndex - Structure meta reading data file directly from disk (SLOW) - try index.meta.data-source=fileinmem in the index properties file. 8.7 GiB of memory would be required.\n",
      "Saved results for music test default to ../BM25_DOCUMENT/\n",
      "                             name       map  recip_rank     ndcg  recall_1  \\\n",
      "0  BM25_music_test_default_params  0.013485    0.013485  0.02703      0.01   \n",
      "\n",
      "   recall_5  recall_10  recall_50  recall_100  recall_250  recall_500  \\\n",
      "0      0.02       0.03       0.04        0.04        0.07        0.07   \n",
      "\n",
      "   recall_1000  \n",
      "0         0.11  \n",
      "100 100\n"
     ]
    },
    {
     "name": "stderr",
     "output_type": "stream",
     "text": [
      "PyTerrier 0.10.0 has loaded Terrier 5.8 (built by craigm on 2023-11-01 18:05) and terrier-helper 0.0.8\n",
      "\n",
      "No etc/terrier.properties, using terrier.default.properties for bootstrap configuration.\n",
      "/Users/rohanjha/miniforge3/envs/11-797/lib/python3.10/site-packages/pyterrier/parallel.py:32: UserWarning: Avoiding reinit of PyTerrier\n",
      "  warn(\"Avoiding reinit of PyTerrier\")\n"
     ]
    },
    {
     "name": "stdout",
     "output_type": "stream",
     "text": [
      "22:47:48.944 [main] WARN org.terrier.structures.BaseCompressingMetaIndex - Structure meta reading data file directly from disk (SLOW) - try index.meta.data-source=fileinmem in the index properties file. 8.7 GiB of memory would be required.\n",
      "22:47:49.400 [main] WARN org.terrier.structures.BaseCompressingMetaIndex - Structure meta reading data file directly from disk (SLOW) - try index.meta.data-source=fileinmem in the index properties file. 8.7 GiB of memory would be required.\n",
      "22:47:49.411 [main] WARN org.terrier.structures.BaseCompressingMetaIndex - Structure meta reading data file directly from disk (SLOW) - try index.meta.data-source=fileinmem in the index properties file. 8.7 GiB of memory would be required.\n",
      "22:47:49.486 [main] WARN org.terrier.structures.BaseCompressingMetaIndex - Structure meta reading data file directly from disk (SLOW) - try index.meta.data-source=fileinmem in the index properties file. 8.7 GiB of memory would be required.\n",
      "22:47:49.580 [main] WARN org.terrier.structures.BaseCompressingMetaIndex - Structure meta reading data file directly from disk (SLOW) - try index.meta.data-source=fileinmem in the index properties file. 8.7 GiB of memory would be required.\n",
      "22:47:49.516 [main] WARN org.terrier.structures.BaseCompressingMetaIndex - Structure meta reading data file directly from disk (SLOW) - try index.meta.data-source=fileinmem in the index properties file. 8.7 GiB of memory would be required.\n",
      "22:47:49.684 [main] WARN org.terrier.structures.BaseCompressingMetaIndex - Structure meta reading data file directly from disk (SLOW) - try index.meta.data-source=fileinmem in the index properties file. 8.7 GiB of memory would be required.\n",
      "22:47:49.694 [main] WARN org.terrier.structures.BaseCompressingMetaIndex - Structure meta reading data file directly from disk (SLOW) - try index.meta.data-source=fileinmem in the index properties file. 8.7 GiB of memory would be required.\n",
      "22:47:49.878 [main] WARN org.terrier.structures.BaseCompressingMetaIndex - Structure meta reading data file directly from disk (SLOW) - try index.meta.data-source=fileinmem in the index properties file. 8.7 GiB of memory would be required.\n",
      "22:47:49.905 [main] WARN org.terrier.structures.BaseCompressingMetaIndex - Structure meta reading data file directly from disk (SLOW) - try index.meta.data-source=fileinmem in the index properties file. 8.7 GiB of memory would be required.\n",
      "22:47:49.965 [main] WARN org.terrier.structures.BaseCompressingMetaIndex - Structure meta reading data file directly from disk (SLOW) - try index.meta.data-source=fileinmem in the index properties file. 8.7 GiB of memory would be required.\n",
      "22:47:50.050 [main] WARN org.terrier.structures.BaseCompressingMetaIndex - Structure meta reading data file directly from disk (SLOW) - try index.meta.data-source=fileinmem in the index properties file. 8.7 GiB of memory would be required.\n",
      "22:47:50.073 [main] WARN org.terrier.structures.BaseCompressingMetaIndex - Structure meta reading data file directly from disk (SLOW) - try index.meta.data-source=fileinmem in the index properties file. 8.7 GiB of memory would be required.\n",
      "22:47:50.075 [main] WARN org.terrier.structures.BaseCompressingMetaIndex - Structure meta reading data file directly from disk (SLOW) - try index.meta.data-source=fileinmem in the index properties file. 8.7 GiB of memory would be required.\n",
      "22:47:50.220 [main] WARN org.terrier.structures.BaseCompressingMetaIndex - Structure meta reading data file directly from disk (SLOW) - try index.meta.data-source=fileinmem in the index properties file. 8.7 GiB of memory would be required.\n",
      "Saved results for game val default to ../BM25_DOCUMENT/\n",
      "                           name      map  recip_rank      ndcg  recall_1  \\\n",
      "0  BM25_game_val_default_params  0.14494     0.14494  0.215829       0.1   \n",
      "\n",
      "   recall_5  recall_10  recall_50  recall_100  recall_250  recall_500  \\\n",
      "0      0.18       0.23       0.29        0.38        0.47        0.57   \n",
      "\n",
      "   recall_1000  \n",
      "0          0.6  \n",
      "100 100\n"
     ]
    },
    {
     "name": "stderr",
     "output_type": "stream",
     "text": [
      "PyTerrier 0.10.0 has loaded Terrier 5.8 (built by craigm on 2023-11-01 18:05) and terrier-helper 0.0.8\n",
      "\n",
      "No etc/terrier.properties, using terrier.default.properties for bootstrap configuration.\n",
      "PyTerrier 0.10.0 has loaded Terrier 5.8 (built by craigm on 2023-11-01 18:05) and terrier-helper 0.0.8\n",
      "\n",
      "PyTerrier 0.10.0 has loaded Terrier 5.8 (built by craigm on 2023-11-01 18:05) and terrier-helper 0.0.8\n",
      "\n",
      "No etc/terrier.properties, using terrier.default.properties for bootstrap configuration.\n",
      "No etc/terrier.properties, using terrier.default.properties for bootstrap configuration.\n",
      "/Users/rohanjha/miniforge3/envs/11-797/lib/python3.10/site-packages/pyterrier/parallel.py:32: UserWarning: Avoiding reinit of PyTerrier\n",
      "  warn(\"Avoiding reinit of PyTerrier\")\n",
      "/Users/rohanjha/miniforge3/envs/11-797/lib/python3.10/site-packages/pyterrier/parallel.py:32: UserWarning: Avoiding reinit of PyTerrier\n",
      "  warn(\"Avoiding reinit of PyTerrier\")\n",
      "/Users/rohanjha/miniforge3/envs/11-797/lib/python3.10/site-packages/pyterrier/parallel.py:32: UserWarning: Avoiding reinit of PyTerrier\n",
      "  warn(\"Avoiding reinit of PyTerrier\")\n"
     ]
    },
    {
     "name": "stdout",
     "output_type": "stream",
     "text": [
      "22:50:43.474 [main] WARN org.terrier.structures.BaseCompressingMetaIndex - Structure meta reading data file directly from disk (SLOW) - try index.meta.data-source=fileinmem in the index properties file. 8.7 GiB of memory would be required.\n",
      "22:50:43.474 [main] WARN org.terrier.structures.BaseCompressingMetaIndex - Structure meta reading data file directly from disk (SLOW) - try index.meta.data-source=fileinmem in the index properties file. 8.7 GiB of memory would be required.\n",
      "22:50:43.501 [main] WARN org.terrier.structures.BaseCompressingMetaIndex - Structure meta reading data file directly from disk (SLOW) - try index.meta.data-source=fileinmem in the index properties file. 8.7 GiB of memory would be required.\n",
      "22:50:43.611 [main] WARN org.terrier.structures.BaseCompressingMetaIndex - Structure meta reading data file directly from disk (SLOW) - try index.meta.data-source=fileinmem in the index properties file. 8.7 GiB of memory would be required.\n",
      "22:50:43.649 [main] WARN org.terrier.structures.BaseCompressingMetaIndex - Structure meta reading data file directly from disk (SLOW) - try index.meta.data-source=fileinmem in the index properties file. 8.7 GiB of memory would be required.\n",
      "22:50:43.654 [main] WARN org.terrier.structures.BaseCompressingMetaIndex - Structure meta reading data file directly from disk (SLOW) - try index.meta.data-source=fileinmem in the index properties file. 8.7 GiB of memory would be required.\n",
      "22:50:43.699 [main] WARN org.terrier.structures.BaseCompressingMetaIndex - Structure meta reading data file directly from disk (SLOW) - try index.meta.data-source=fileinmem in the index properties file. 8.7 GiB of memory would be required.\n",
      "22:50:43.769 [main] WARN org.terrier.structures.BaseCompressingMetaIndex - Structure meta reading data file directly from disk (SLOW) - try index.meta.data-source=fileinmem in the index properties file. 8.7 GiB of memory would be required.\n",
      "22:50:43.811 [main] WARN org.terrier.structures.BaseCompressingMetaIndex - Structure meta reading data file directly from disk (SLOW) - try index.meta.data-source=fileinmem in the index properties file. 8.7 GiB of memory would be required.\n",
      "22:50:43.867 [main] WARN org.terrier.structures.BaseCompressingMetaIndex - Structure meta reading data file directly from disk (SLOW) - try index.meta.data-source=fileinmem in the index properties file. 8.7 GiB of memory would be required.\n",
      "22:50:43.909 [main] WARN org.terrier.structures.BaseCompressingMetaIndex - Structure meta reading data file directly from disk (SLOW) - try index.meta.data-source=fileinmem in the index properties file. 8.7 GiB of memory would be required.\n",
      "22:50:43.957 [main] WARN org.terrier.structures.BaseCompressingMetaIndex - Structure meta reading data file directly from disk (SLOW) - try index.meta.data-source=fileinmem in the index properties file. 8.7 GiB of memory would be required.\n",
      "22:50:44.000 [main] WARN org.terrier.structures.BaseCompressingMetaIndex - Structure meta reading data file directly from disk (SLOW) - try index.meta.data-source=fileinmem in the index properties file. 8.7 GiB of memory would be required.\n",
      "22:50:47.230 [main] WARN org.terrier.structures.BaseCompressingMetaIndex - Structure meta reading data file directly from disk (SLOW) - try index.meta.data-source=fileinmem in the index properties file. 8.7 GiB of memory would be required.\n",
      "22:50:47.347 [main] WARN org.terrier.structures.BaseCompressingMetaIndex - Structure meta reading data file directly from disk (SLOW) - try index.meta.data-source=fileinmem in the index properties file. 8.7 GiB of memory would be required.\n",
      "Saved results for game test default to ../BM25_DOCUMENT/\n",
      "                            name       map  recip_rank      ndcg  recall_1  \\\n",
      "0  BM25_game_test_default_params  0.152924    0.152924  0.231247      0.11   \n",
      "\n",
      "   recall_5  recall_10  recall_50  recall_100  recall_250  recall_500  \\\n",
      "0      0.19       0.26       0.39        0.46        0.52        0.57   \n",
      "\n",
      "   recall_1000  \n",
      "0         0.62  \n"
     ]
    }
   ],
   "source": [
    "mode = \"default\"\n",
    "# mode = \"gridsearched\"\n",
    "\n",
    "results = {domain : {} for domain in domains}\n",
    "\n",
    "for domain in domains:\n",
    "    # load gridsearched optimal params / default params\n",
    "    if mode == \"gridsearched\":\n",
    "        controls = gridsearched_bm25_params[domain]\n",
    "    elif mode == \"default\":\n",
    "        controls = {\"bm25.b\" : 0.75, \"bm25.k_1\" : 1.2}\n",
    "    else:\n",
    "        raise ValueError(\"Invalid mode\")\n",
    "    \n",
    "    bm25 = pt.BatchRetrieve(\n",
    "        index, \n",
    "        wmodel=\"BM25\", \n",
    "        controls=controls,\n",
    "        verbose=True,\n",
    "    )\n",
    "\n",
    "    for split in [\"val\", \"test\"]:\n",
    "        # data\n",
    "        queries = all_domain_queries[domain][split]\n",
    "        qrels = all_domain_qrels[domain][split]\n",
    "        print(len(queries), len(qrels))\n",
    "        # experiment\n",
    "        result = pt.Experiment(\n",
    "            retr_systems=[bm25.parallel(16)], \n",
    "            topics=queries, \n",
    "            qrels=qrels, \n",
    "            eval_metrics=[\"map\", \"recip_rank\", \"ndcg\", *[f\"recall_{k}\" for k in [1, 5, 10, 50, 100, 250, 500, 1000]]], \n",
    "            names=[f\"BM25_{domain}_{split}_{mode}_params\"],\n",
    "            save_dir=f\"../BM25_DOCUMENT/\",\n",
    "        )\n",
    "        print(f\"Saved results for {domain} {split} {mode} to ../BM25_DOCUMENT/\")\n",
    "        print(result)\n",
    "        results[domain][split] = result"
   ]
  },
  {
   "cell_type": "code",
   "execution_count": 20,
   "metadata": {},
   "outputs": [],
   "source": [
    "# Save results to csv\n",
    "all_results = pd.concat([results[domain][split] for domain in domains for split in [\"val\", \"test\"]])\n",
    "all_results[\"domain\"] = all_results[\"name\"].apply(lambda x: x.split(\"_\")[1])\n",
    "all_results[\"split\"] = all_results[\"name\"].apply(lambda x: x.split(\"_\")[2])\n",
    "all_results[\"name\"] = all_results[\"name\"].apply(lambda x: x.split(\"_\")[0] + \"-document\")\n",
    "# add columns for b and k_1 from bm25\n",
    "if mode == \"gridsearched\":\n",
    "    all_results[\"bm25.b\"] = all_results[\"domain\"].apply(lambda domain: gridsearched_bm25_params[domain][\"bm25.b\"])\n",
    "    all_results[\"bm25.k_1\"] = all_results[\"domain\"].apply(lambda domain: gridsearched_bm25_params[domain][\"bm25.k_1\"])\n",
    "elif mode == \"default\":\n",
    "    all_results[\"bm25.b\"] = 0.75\n",
    "    all_results[\"bm25.k_1\"] = 1.2\n",
    "else:\n",
    "    raise ValueError(\"Invalid mode\")\n",
    "# move domain, split, b, k_1 to be second through fifth columns\n",
    "cols = all_results.columns.tolist()\n",
    "cols = cols[:1] + cols[-4:] + cols[1:-4]\n",
    "all_results = all_results[cols]\n",
    "all_results.head()\n",
    "all_results.to_csv(f\"../BM25_DOCUMENT/bm25_document_{mode}_results.csv\", index=False)\n"
   ]
  },
  {
   "cell_type": "code",
   "execution_count": 22,
   "metadata": {},
   "outputs": [
    {
     "data": {
      "text/html": [
       "<div>\n",
       "<style scoped>\n",
       "    .dataframe tbody tr th:only-of-type {\n",
       "        vertical-align: middle;\n",
       "    }\n",
       "\n",
       "    .dataframe tbody tr th {\n",
       "        vertical-align: top;\n",
       "    }\n",
       "\n",
       "    .dataframe thead th {\n",
       "        text-align: right;\n",
       "    }\n",
       "</style>\n",
       "<table border=\"1\" class=\"dataframe\">\n",
       "  <thead>\n",
       "    <tr style=\"text-align: right;\">\n",
       "      <th></th>\n",
       "      <th>name</th>\n",
       "      <th>domain</th>\n",
       "      <th>split</th>\n",
       "      <th>bm25.b</th>\n",
       "      <th>bm25.k_1</th>\n",
       "      <th>map</th>\n",
       "      <th>recip_rank</th>\n",
       "      <th>ndcg</th>\n",
       "      <th>recall_1</th>\n",
       "      <th>recall_5</th>\n",
       "      <th>recall_10</th>\n",
       "      <th>recall_50</th>\n",
       "      <th>recall_100</th>\n",
       "      <th>recall_250</th>\n",
       "      <th>recall_500</th>\n",
       "      <th>recall_1000</th>\n",
       "    </tr>\n",
       "  </thead>\n",
       "  <tbody>\n",
       "    <tr>\n",
       "      <th>0</th>\n",
       "      <td>BM25-passage</td>\n",
       "      <td>book</td>\n",
       "      <td>val</td>\n",
       "      <td>0.75</td>\n",
       "      <td>1.2</td>\n",
       "      <td>0.134365</td>\n",
       "      <td>0.134365</td>\n",
       "      <td>0.189300</td>\n",
       "      <td>0.10</td>\n",
       "      <td>0.16</td>\n",
       "      <td>0.20</td>\n",
       "      <td>0.26</td>\n",
       "      <td>0.29</td>\n",
       "      <td>0.36</td>\n",
       "      <td>0.41</td>\n",
       "      <td>0.49</td>\n",
       "    </tr>\n",
       "    <tr>\n",
       "      <th>0</th>\n",
       "      <td>BM25-passage</td>\n",
       "      <td>book</td>\n",
       "      <td>test</td>\n",
       "      <td>0.75</td>\n",
       "      <td>1.2</td>\n",
       "      <td>0.112696</td>\n",
       "      <td>0.112696</td>\n",
       "      <td>0.178842</td>\n",
       "      <td>0.07</td>\n",
       "      <td>0.15</td>\n",
       "      <td>0.19</td>\n",
       "      <td>0.33</td>\n",
       "      <td>0.36</td>\n",
       "      <td>0.41</td>\n",
       "      <td>0.43</td>\n",
       "      <td>0.51</td>\n",
       "    </tr>\n",
       "    <tr>\n",
       "      <th>0</th>\n",
       "      <td>BM25-passage</td>\n",
       "      <td>movie</td>\n",
       "      <td>val</td>\n",
       "      <td>0.75</td>\n",
       "      <td>1.2</td>\n",
       "      <td>0.046662</td>\n",
       "      <td>0.046662</td>\n",
       "      <td>0.105756</td>\n",
       "      <td>0.02</td>\n",
       "      <td>0.08</td>\n",
       "      <td>0.09</td>\n",
       "      <td>0.18</td>\n",
       "      <td>0.25</td>\n",
       "      <td>0.29</td>\n",
       "      <td>0.34</td>\n",
       "      <td>0.44</td>\n",
       "    </tr>\n",
       "    <tr>\n",
       "      <th>0</th>\n",
       "      <td>BM25-passage</td>\n",
       "      <td>movie</td>\n",
       "      <td>test</td>\n",
       "      <td>0.75</td>\n",
       "      <td>1.2</td>\n",
       "      <td>0.039897</td>\n",
       "      <td>0.039897</td>\n",
       "      <td>0.088859</td>\n",
       "      <td>0.01</td>\n",
       "      <td>0.06</td>\n",
       "      <td>0.09</td>\n",
       "      <td>0.16</td>\n",
       "      <td>0.20</td>\n",
       "      <td>0.23</td>\n",
       "      <td>0.29</td>\n",
       "      <td>0.36</td>\n",
       "    </tr>\n",
       "    <tr>\n",
       "      <th>0</th>\n",
       "      <td>BM25-passage</td>\n",
       "      <td>music</td>\n",
       "      <td>val</td>\n",
       "      <td>0.75</td>\n",
       "      <td>1.2</td>\n",
       "      <td>0.012846</td>\n",
       "      <td>0.012846</td>\n",
       "      <td>0.023878</td>\n",
       "      <td>0.01</td>\n",
       "      <td>0.02</td>\n",
       "      <td>0.02</td>\n",
       "      <td>0.02</td>\n",
       "      <td>0.03</td>\n",
       "      <td>0.03</td>\n",
       "      <td>0.06</td>\n",
       "      <td>0.10</td>\n",
       "    </tr>\n",
       "    <tr>\n",
       "      <th>0</th>\n",
       "      <td>BM25-passage</td>\n",
       "      <td>music</td>\n",
       "      <td>test</td>\n",
       "      <td>0.75</td>\n",
       "      <td>1.2</td>\n",
       "      <td>0.013485</td>\n",
       "      <td>0.013485</td>\n",
       "      <td>0.027030</td>\n",
       "      <td>0.01</td>\n",
       "      <td>0.02</td>\n",
       "      <td>0.03</td>\n",
       "      <td>0.04</td>\n",
       "      <td>0.04</td>\n",
       "      <td>0.07</td>\n",
       "      <td>0.07</td>\n",
       "      <td>0.11</td>\n",
       "    </tr>\n",
       "    <tr>\n",
       "      <th>0</th>\n",
       "      <td>BM25-passage</td>\n",
       "      <td>game</td>\n",
       "      <td>val</td>\n",
       "      <td>0.75</td>\n",
       "      <td>1.2</td>\n",
       "      <td>0.144940</td>\n",
       "      <td>0.144940</td>\n",
       "      <td>0.215829</td>\n",
       "      <td>0.10</td>\n",
       "      <td>0.18</td>\n",
       "      <td>0.23</td>\n",
       "      <td>0.29</td>\n",
       "      <td>0.38</td>\n",
       "      <td>0.47</td>\n",
       "      <td>0.57</td>\n",
       "      <td>0.60</td>\n",
       "    </tr>\n",
       "    <tr>\n",
       "      <th>0</th>\n",
       "      <td>BM25-passage</td>\n",
       "      <td>game</td>\n",
       "      <td>test</td>\n",
       "      <td>0.75</td>\n",
       "      <td>1.2</td>\n",
       "      <td>0.152924</td>\n",
       "      <td>0.152924</td>\n",
       "      <td>0.231247</td>\n",
       "      <td>0.11</td>\n",
       "      <td>0.19</td>\n",
       "      <td>0.26</td>\n",
       "      <td>0.39</td>\n",
       "      <td>0.46</td>\n",
       "      <td>0.52</td>\n",
       "      <td>0.57</td>\n",
       "      <td>0.62</td>\n",
       "    </tr>\n",
       "  </tbody>\n",
       "</table>\n",
       "</div>"
      ],
      "text/plain": [
       "           name domain split  bm25.b  bm25.k_1       map  recip_rank  \\\n",
       "0  BM25-passage   book   val    0.75       1.2  0.134365    0.134365   \n",
       "0  BM25-passage   book  test    0.75       1.2  0.112696    0.112696   \n",
       "0  BM25-passage  movie   val    0.75       1.2  0.046662    0.046662   \n",
       "0  BM25-passage  movie  test    0.75       1.2  0.039897    0.039897   \n",
       "0  BM25-passage  music   val    0.75       1.2  0.012846    0.012846   \n",
       "0  BM25-passage  music  test    0.75       1.2  0.013485    0.013485   \n",
       "0  BM25-passage   game   val    0.75       1.2  0.144940    0.144940   \n",
       "0  BM25-passage   game  test    0.75       1.2  0.152924    0.152924   \n",
       "\n",
       "       ndcg  recall_1  recall_5  recall_10  recall_50  recall_100  recall_250  \\\n",
       "0  0.189300      0.10      0.16       0.20       0.26        0.29        0.36   \n",
       "0  0.178842      0.07      0.15       0.19       0.33        0.36        0.41   \n",
       "0  0.105756      0.02      0.08       0.09       0.18        0.25        0.29   \n",
       "0  0.088859      0.01      0.06       0.09       0.16        0.20        0.23   \n",
       "0  0.023878      0.01      0.02       0.02       0.02        0.03        0.03   \n",
       "0  0.027030      0.01      0.02       0.03       0.04        0.04        0.07   \n",
       "0  0.215829      0.10      0.18       0.23       0.29        0.38        0.47   \n",
       "0  0.231247      0.11      0.19       0.26       0.39        0.46        0.52   \n",
       "\n",
       "   recall_500  recall_1000  \n",
       "0        0.41         0.49  \n",
       "0        0.43         0.51  \n",
       "0        0.34         0.44  \n",
       "0        0.29         0.36  \n",
       "0        0.06         0.10  \n",
       "0        0.07         0.11  \n",
       "0        0.57         0.60  \n",
       "0        0.57         0.62  "
      ]
     },
     "execution_count": 22,
     "metadata": {},
     "output_type": "execute_result"
    }
   ],
   "source": [
    "all_results"
   ]
  },
  {
   "cell_type": "markdown",
   "metadata": {},
   "source": [
    "# Run Gridsearch and experiments"
   ]
  },
  {
   "cell_type": "code",
   "execution_count": 24,
   "metadata": {},
   "outputs": [
    {
     "name": "stdout",
     "output_type": "stream",
     "text": [
      "50 50\n",
      "Running gridsearch over b and k1 parameters for domain='book'\n"
     ]
    },
    {
     "name": "stderr",
     "output_type": "stream",
     "text": [
      "PyTerrier 0.10.0 has loaded Terrier 5.8 (built by craigm on 2023-11-01 18:05) and terrier-helper 0.0.8\n",
      "\n",
      "PyTerrier 0.10.0 has loaded Terrier 5.8 (built by craigm on 2023-11-01 18:05) and terrier-helper 0.0.8\n",
      "\n",
      "PyTerrier 0.10.0 has loaded Terrier 5.8 (built by craigm on 2023-11-01 18:05) and terrier-helper 0.0.8\n",
      "\n",
      "PyTerrier 0.10.0 has loaded Terrier 5.8 (built by craigm on 2023-11-01 18:05) and terrier-helper 0.0.8\n",
      "\n",
      "No etc/terrier.properties, using terrier.default.properties for bootstrap configuration.\n",
      "No etc/terrier.properties, using terrier.default.properties for bootstrap configuration.\n",
      "No etc/terrier.properties, using terrier.default.properties for bootstrap configuration.\n",
      "No etc/terrier.properties, using terrier.default.properties for bootstrap configuration.\n"
     ]
    },
    {
     "name": "stdout",
     "output_type": "stream",
     "text": [
      "23:30:23.897 [main] WARN org.terrier.structures.BaseCompressingMetaIndex - Structure meta reading data file directly from disk (SLOW) - try index.meta.data-source=fileinmem in the index properties file. 8.7 GiB of memory would be required.\n",
      "23:30:23.901 [main] WARN org.terrier.structures.BaseCompressingMetaIndex - Structure meta reading data file directly from disk (SLOW) - try index.meta.data-source=fileinmem in the index properties file. 8.7 GiB of memory would be required.\n",
      "23:30:23.923 [main] WARN org.terrier.structures.BaseCompressingMetaIndex - Structure meta reading data file directly from disk (SLOW) - try index.meta.data-source=fileinmem in the index properties file. 8.7 GiB of memory would be required.\n",
      "23:30:23.928 [main] WARN org.terrier.structures.BaseCompressingMetaIndex - Structure meta reading data file directly from disk (SLOW) - try index.meta.data-source=fileinmem in the index properties file. 8.7 GiB of memory would be required.\n"
     ]
    }
   ],
   "source": [
    "# Run Experiments\n",
    "mode = \"gridsearched\"\n",
    "NUM_SAMPLES = 50\n",
    "BM25_B_RANGE = [0, 0.15, 0.3, 0.45, 0.6, 0.75 , 0.9, 1]\n",
    "BM25_K1_RANGE = [0.3, 0.6, 0.9, 1.2, 1.4, 1.6, 2]\n",
    "\n",
    "results = {domain : {} for domain in domains}\n",
    "\n",
    "bm25 = pt.BatchRetrieve(\n",
    "    index, \n",
    "    wmodel=\"BM25\", \n",
    "    verbose=True,\n",
    "    controls = {\"bm25.b\" : 0.75, \"bm25.k_1\" : 1.2},\n",
    ")\n",
    "\n",
    "for domain in domains:\n",
    "\n",
    "    # take random queries from train for gridsearch\n",
    "    train_queries = all_domain_queries[domain]['train'].sample(NUM_SAMPLES, random_state=0)\n",
    "    train_qrels = all_domain_qrels[domain]['train'].iloc[train_queries.index]\n",
    "    print(len(train_queries), len(train_qrels))\n",
    "\n",
    "    # run gridsearch over b and k1 parameters\n",
    "    print(f\"Running gridsearch over b and k1 parameters for {domain=}\")\n",
    "    bm25_opt = pt.GridSearch(\n",
    "        bm25,\n",
    "        {\n",
    "            bm25: {\n",
    "                \"bm25.b\" : BM25_B_RANGE,\n",
    "                \"bm25.k_1\": BM25_K1_RANGE,\n",
    "            }\n",
    "        },\n",
    "        train_queries,\n",
    "        train_qrels,\n",
    "        metric=\"map\",\n",
    "        jobs=4,\n",
    "        verbose=True,\n",
    "    )\n",
    "\n",
    "    for split in [\"val\", \"test\"]:\n",
    "        # data\n",
    "        queries = all_domain_queries[domain][split]\n",
    "        qrels = all_domain_qrels[domain][split]\n",
    "        print(len(queries), len(qrels))\n",
    "        # experiment\n",
    "        result = pt.Experiment(\n",
    "            retr_systems=[bm25_opt.parallel(16)], \n",
    "            topics=queries, \n",
    "            qrels=qrels, \n",
    "            eval_metrics=[\"map\", \"ndcg\", \"recall\"], \n",
    "            names=[f\"BM25_{domain}_{split}_{mode}_params\"],\n",
    "            save_dir=f\"../BM25_DOCUMENT/\",\n",
    "        )\n",
    "        results[domain][split] = result\n",
    "        print(f\"Saved results for {domain} {split} to ../BM25_DOCUMENT/\")\n",
    "        print(result)"
   ]
  },
  {
   "cell_type": "code",
   "execution_count": null,
   "metadata": {},
   "outputs": [],
   "source": [
    "# Save results to csv\n",
    "all_results = pd.concat([results[domain][split] for domain in domains for split in [\"val\", \"test\"]])\n",
    "all_results[\"domain\"] = all_results[\"name\"].apply(lambda x: x.split(\"_\")[1])\n",
    "all_results[\"split\"] = all_results[\"name\"].apply(lambda x: x.split(\"_\")[2])\n",
    "all_results[\"name\"] = all_results[\"name\"].apply(lambda x: x.split(\"_\")[0] + \"-document\")\n",
    "# add columns for b and k_1 from bm25\n",
    "if mode == \"gridsearched\":\n",
    "    all_results[\"bm25.b\"] = all_results[\"domain\"].apply(lambda domain: gridsearched_bm25_params[domain][\"bm25.b\"])\n",
    "    all_results[\"bm25.k_1\"] = all_results[\"domain\"].apply(lambda domain: gridsearched_bm25_params[domain][\"bm25.k_1\"])\n",
    "elif mode == \"default\":\n",
    "    all_results[\"bm25.b\"] = 0.75\n",
    "    all_results[\"bm25.k_1\"] = 1.2\n",
    "else:\n",
    "    raise ValueError(\"Invalid mode\")\n",
    "# move domain, split, b, k_1 to be second through fifth columns\n",
    "cols = all_results.columns.tolist()\n",
    "cols = cols[:1] + cols[-4:] + cols[1:-4]\n",
    "all_results = all_results[cols]\n",
    "all_results.head()\n",
    "all_results.to_csv(f\"../BM25_DOCUMENT/bm25_document_{mode}_results.csv\", index=False)"
   ]
  }
 ],
 "metadata": {
  "kernelspec": {
   "display_name": "11-797",
   "language": "python",
   "name": "python3"
  },
  "language_info": {
   "codemirror_mode": {
    "name": "ipython",
    "version": 3
   },
   "file_extension": ".py",
   "mimetype": "text/x-python",
   "name": "python",
   "nbconvert_exporter": "python",
   "pygments_lexer": "ipython3",
   "version": "3.10.9"
  }
 },
 "nbformat": 4,
 "nbformat_minor": 2
}
